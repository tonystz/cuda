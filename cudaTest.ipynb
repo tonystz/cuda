{
  "nbformat": 4,
  "nbformat_minor": 0,
  "metadata": {
    "colab": {
      "provenance": [],
      "gpuType": "T4",
      "authorship_tag": "ABX9TyO6X5Ds+QKQqfG00Ps9Gk5t",
      "include_colab_link": true
    },
    "kernelspec": {
      "name": "python3",
      "display_name": "Python 3"
    },
    "language_info": {
      "name": "python"
    },
    "accelerator": "GPU",
    "gpuClass": "standard"
  },
  "cells": [
    {
      "cell_type": "markdown",
      "metadata": {
        "id": "view-in-github",
        "colab_type": "text"
      },
      "source": [
        "<a href=\"https://colab.research.google.com/github/tonystz/cuda/blob/main/cudaTest.ipynb\" target=\"_parent\"><img src=\"https://colab.research.google.com/assets/colab-badge.svg\" alt=\"Open In Colab\"/></a>"
      ]
    },
    {
      "cell_type": "code",
      "execution_count": null,
      "metadata": {
        "id": "z-NEO6Uem3bL"
      },
      "outputs": [],
      "source": [
        "!pip install pycuda # install cuda"
      ]
    },
    {
      "cell_type": "markdown",
      "source": [
        "## CPU vs GPU monte_carlo_pi"
      ],
      "metadata": {
        "id": "OAlslPd7nOHk"
      }
    },
    {
      "cell_type": "code",
      "source": [
        "%%writefile monte_carlo_pi.py\n",
        "import time\n",
        "import numpy as np\n",
        "\n",
        "total = 10000000\n",
        "#total = 100000\n",
        "data=np.random.rand(total,2).astype(np.float64)\n",
        "\n",
        "t=time.time()\n",
        "def cal_pi_cpu():\n",
        "  hits = 0\n",
        "  for i in data:\n",
        "      x,y = i\n",
        "      if (x ** 2 + y ** 2) <= 1 :\n",
        "          hits+=1\n",
        "  return hits\n",
        "hits=cal_pi_cpu()\n",
        "print(f'CPU time:{time.time()-t} hits={hits} total={total} pi={hits * 4.0 / total}')"
      ],
      "metadata": {
        "colab": {
          "base_uri": "https://localhost:8080/"
        },
        "id": "Z02Jv4aU_mZB",
        "outputId": "4b6b0d5c-08c8-4a4d-d7e8-dfeb33c9cae2"
      },
      "execution_count": 93,
      "outputs": [
        {
          "output_type": "stream",
          "name": "stdout",
          "text": [
            "Overwriting monte_carlo_pi.py\n"
          ]
        }
      ]
    },
    {
      "cell_type": "code",
      "source": [
        "!python -m profile -s cumtime  monte_carlo_pi.py "
      ],
      "metadata": {
        "id": "R2i9hAJB_2fw"
      },
      "execution_count": null,
      "outputs": []
    },
    {
      "cell_type": "code",
      "source": [
        "%%writefile pi.py\n",
        "import time\n",
        "import numpy as np\n",
        "#GPU\n",
        "import pycuda.driver as cuda\n",
        "import pycuda.autoinit\n",
        "from pycuda import gpuarray\n",
        "from pycuda.compiler import SourceModule\n",
        "\n",
        "\n",
        "total = 10000000\n",
        "#total = 100000\n",
        "data=np.random.rand(total,2).astype(np.float64)\n",
        "\n",
        "t=time.time()\n",
        "def cal_pi_cpu():\n",
        "  hits = 0\n",
        "  for i in data:\n",
        "      x,y = i\n",
        "      if (x ** 2 + y ** 2) <= 1 :\n",
        "          hits+=1\n",
        "  return hits\n",
        "hits=cal_pi_cpu()\n",
        "print(f'CPU time:{time.time()-t} hits={hits} total={total} pi={hits * 4.0 / total}')\n",
        "\n",
        "\n",
        "t=time.time()\n",
        "mod = SourceModule(\"\"\"\n",
        "    #include <stdio.h>\n",
        "\n",
        "    __global__ void cal_pi_gpu(double *in, unsigned long long *out)\n",
        "    { \n",
        "      unsigned long long idx = threadIdx.x + blockIdx.x * blockDim.x;\n",
        "      const int colSize=2;\n",
        "      double x = in[idx*colSize];\n",
        "      double y = in[idx*colSize+1];\n",
        "      if ((x*x + y*y) <= 1.0)\n",
        "        out[idx]=1;\n",
        "    }\n",
        "    \"\"\")\n",
        "\n",
        "cal_pi_gpu = mod.get_function(\"cal_pi_gpu\")\n",
        "data_gpu = gpuarray.to_gpu(data)\n",
        "out_gpu = gpuarray.zeros((total,1),dtype=np.uint64)\n",
        "cal_pi_gpu(data_gpu,out_gpu,block=(1000,1,1),grid=(int(total/1000),1,1))\n",
        "hits=sum(out_gpu.get())[0]\n",
        "print(f'GPU time:{time.time()-t} hits={hits} total={total} pi={hits * 4.0 / total}')"
      ],
      "metadata": {
        "colab": {
          "base_uri": "https://localhost:8080/"
        },
        "id": "RpaEDyxOnRcQ",
        "outputId": "6be0e2b8-379f-4f8b-8b03-156b4503e4b6"
      },
      "execution_count": 98,
      "outputs": [
        {
          "output_type": "stream",
          "name": "stdout",
          "text": [
            "Overwriting pi.py\n"
          ]
        }
      ]
    },
    {
      "cell_type": "code",
      "source": [
        "!python pi.py"
      ],
      "metadata": {
        "colab": {
          "base_uri": "https://localhost:8080/"
        },
        "id": "X4AXF8hsndg6",
        "outputId": "73c6d868-b3ec-42d8-d69e-7fd7436e27c5"
      },
      "execution_count": 99,
      "outputs": [
        {
          "output_type": "stream",
          "name": "stdout",
          "text": [
            "CPU time:18.82800579071045 hits=7853437 total=10000000 pi=3.1413748\n",
            "GPU time:7.032425403594971 hits=7853437 total=10000000 pi=3.1413748\n"
          ]
        }
      ]
    }
  ]
}