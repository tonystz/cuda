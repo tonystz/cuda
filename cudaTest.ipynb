{
  "nbformat": 4,
  "nbformat_minor": 0,
  "metadata": {
    "colab": {
      "provenance": [],
      "gpuType": "T4",
      "authorship_tag": "ABX9TyNX1+t5Evcz5HgkL48q7YiI",
      "include_colab_link": true
    },
    "kernelspec": {
      "name": "python3",
      "display_name": "Python 3"
    },
    "language_info": {
      "name": "python"
    },
    "accelerator": "GPU",
    "gpuClass": "standard"
  },
  "cells": [
    {
      "cell_type": "markdown",
      "metadata": {
        "id": "view-in-github",
        "colab_type": "text"
      },
      "source": [
        "<a href=\"https://colab.research.google.com/github/tonystz/cuda/blob/main/cudaTest.ipynb\" target=\"_parent\"><img src=\"https://colab.research.google.com/assets/colab-badge.svg\" alt=\"Open In Colab\"/></a>"
      ]
    },
    {
      "cell_type": "code",
      "execution_count": null,
      "metadata": {
        "id": "z-NEO6Uem3bL"
      },
      "outputs": [],
      "source": [
        "!pip install pycuda # install cuda"
      ]
    },
    {
      "cell_type": "markdown",
      "source": [
        "## CPU vs GPU monte_carlo_pi"
      ],
      "metadata": {
        "id": "OAlslPd7nOHk"
      }
    },
    {
      "cell_type": "code",
      "source": [
        "%%writefile monte_carlo_pi.py\n",
        "import time\n",
        "import numpy as np\n",
        "\n",
        "total = 10000000\n",
        "#total = 100000\n",
        "data=np.random.rand(total,2).astype(np.float64)\n",
        "\n",
        "t=time.time()\n",
        "def cal_pi_cpu():\n",
        "  hits = 0\n",
        "  for i in data:\n",
        "      x,y = i\n",
        "      if (x ** 2 + y ** 2) <= 1 :\n",
        "          hits+=1\n",
        "  return hits\n",
        "hits=cal_pi_cpu()\n",
        "print(f'CPU time:{time.time()-t} hits={hits} total={total} pi={hits * 4.0 / total}')"
      ],
      "metadata": {
        "colab": {
          "base_uri": "https://localhost:8080/"
        },
        "id": "Z02Jv4aU_mZB",
        "outputId": "4b6b0d5c-08c8-4a4d-d7e8-dfeb33c9cae2"
      },
      "execution_count": null,
      "outputs": [
        {
          "output_type": "stream",
          "name": "stdout",
          "text": [
            "Overwriting monte_carlo_pi.py\n"
          ]
        }
      ]
    },
    {
      "cell_type": "code",
      "source": [
        "!python -m profile -s cumtime  monte_carlo_pi.py "
      ],
      "metadata": {
        "id": "R2i9hAJB_2fw"
      },
      "execution_count": null,
      "outputs": []
    },
    {
      "cell_type": "code",
      "source": [
        "%%writefile pi.py\n",
        "import time\n",
        "import numpy as np\n",
        "#GPU\n",
        "import pycuda.driver as cuda\n",
        "import pycuda.autoinit\n",
        "from pycuda import gpuarray\n",
        "from pycuda.compiler import SourceModule\n",
        "\n",
        "\n",
        "total = 10000000\n",
        "#total = 100000\n",
        "data=np.random.rand(total,2).astype(np.float64)\n",
        "\n",
        "t=time.time()\n",
        "def cal_pi_cpu():\n",
        "  hits = 0\n",
        "  for i in data:\n",
        "      x,y = i\n",
        "      if (x ** 2 + y ** 2) <= 1 :\n",
        "          hits+=1\n",
        "  return hits\n",
        "hits=cal_pi_cpu()\n",
        "print(f'CPU time:{time.time()-t} hits={hits} total={total} pi={hits * 4.0 / total}')\n",
        "\n",
        "\n",
        "t=time.time()\n",
        "mod = SourceModule(\"\"\"\n",
        "    #include <stdio.h>\n",
        "\n",
        "    __global__ void cal_pi_gpu(double *in, unsigned long long *out)\n",
        "    { \n",
        "      unsigned long long idx = threadIdx.x + blockIdx.x * blockDim.x;\n",
        "      const int colSize=2;\n",
        "      double x = in[idx*colSize];\n",
        "      double y = in[idx*colSize+1];\n",
        "      if ((x*x + y*y) <= 1.0)\n",
        "        out[idx]=1;\n",
        "    }\n",
        "    \"\"\")\n",
        "\n",
        "cal_pi_gpu = mod.get_function(\"cal_pi_gpu\")\n",
        "data_gpu = gpuarray.to_gpu(data)\n",
        "out_gpu = gpuarray.zeros((total,1),dtype=np.uint64)\n",
        "cal_pi_gpu(data_gpu,out_gpu,block=(128,1,1),grid=(int(total/128),1,1))\n",
        "hits=sum(out_gpu.get())[0]\n",
        "print(f'GPU time:{time.time()-t} hits={hits} total={total} pi={hits * 4.0 / total}')"
      ],
      "metadata": {
        "colab": {
          "base_uri": "https://localhost:8080/"
        },
        "id": "RpaEDyxOnRcQ",
        "outputId": "31dee24c-5090-411b-f7f2-f2346ee74b28"
      },
      "execution_count": 20,
      "outputs": [
        {
          "output_type": "stream",
          "name": "stdout",
          "text": [
            "Overwriting pi.py\n"
          ]
        }
      ]
    },
    {
      "cell_type": "code",
      "source": [
        "!python pi.py"
      ],
      "metadata": {
        "colab": {
          "base_uri": "https://localhost:8080/"
        },
        "id": "X4AXF8hsndg6",
        "outputId": "63ca606a-bf1e-46e6-9b3d-ce116873af81"
      },
      "execution_count": 23,
      "outputs": [
        {
          "output_type": "stream",
          "name": "stdout",
          "text": [
            "CPU time:19.792373657226562 hits=7856074 total=10000000 pi=3.1424296\n",
            "GPU time:5.321574687957764 hits=7856074 total=10000000 pi=3.1424296\n"
          ]
        }
      ]
    },
    {
      "cell_type": "code",
      "source": [
        "%%writefile matrix_index.py\n",
        "#!python \n",
        "import pycuda.driver as cuda\n",
        "import pycuda.autoinit\n",
        "from pycuda.compiler import SourceModule\n",
        "from pycuda import gpuarray\n",
        "import numpy as np\n",
        "\n",
        "mod = SourceModule(\"\"\"\n",
        "    #include <stdio.h>\n",
        "\n",
        "    __global__ void matrix_index(int *out_gpu, int col_size)\n",
        "    { \n",
        "      int idx = threadIdx.x + blockIdx.x * blockDim.x;\n",
        "      int idy = threadIdx.y + blockIdx.y * blockDim.y;\n",
        "      \n",
        "      printf(\"thread[%d][%d]: %d\\\\n\",idx,idy,out_gpu[idx*col_size+idy]);\n",
        "    }\n",
        "    \"\"\")\n",
        "\n",
        "matrix_index = mod.get_function(\"matrix_index\")\n",
        "\n",
        "data=np.array([21,2,3,38,9,10], dtype=np.int32)\n",
        "ROW,COL=2,3\n",
        "data=data.reshape(ROW,COL)\n",
        "print(f'shape:{data.shape},data=\\n{data}')\n",
        "data_gpu = gpuarray.to_gpu(data)\n",
        "matrix_index(data_gpu,np.int32(COL),block=(ROW,COL,1),grid=(1,1,1))"
      ],
      "metadata": {
        "id": "Gbwa6oXOwdbu",
        "outputId": "7c0cfb89-5713-47c1-9ede-82a89c6da4e8",
        "colab": {
          "base_uri": "https://localhost:8080/"
        }
      },
      "execution_count": 41,
      "outputs": [
        {
          "output_type": "stream",
          "name": "stdout",
          "text": [
            "Overwriting matrix_index.py\n"
          ]
        }
      ]
    },
    {
      "cell_type": "code",
      "source": [
        "!python matrix_index.py"
      ],
      "metadata": {
        "id": "kRsHZgo2xKXL",
        "outputId": "7c88deab-cde1-474d-81ce-adfcd3e912d4",
        "colab": {
          "base_uri": "https://localhost:8080/"
        }
      },
      "execution_count": 42,
      "outputs": [
        {
          "output_type": "stream",
          "name": "stdout",
          "text": [
            "shape:(2, 3),data=\n",
            "[[21  2  3]\n",
            " [38  9 10]]\n",
            "thread[0][0]: 21\n",
            "thread[1][0]: 38\n",
            "thread[0][1]: 2\n",
            "thread[1][1]: 9\n",
            "thread[0][2]: 3\n",
            "thread[1][2]: 10\n"
          ]
        }
      ]
    }
  ]
}