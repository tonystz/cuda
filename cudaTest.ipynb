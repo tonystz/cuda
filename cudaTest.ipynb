{
  "nbformat": 4,
  "nbformat_minor": 0,
  "metadata": {
    "colab": {
      "provenance": [],
      "gpuType": "T4",
      "authorship_tag": "ABX9TyOm+dI/aRwoUlAYi4XjswvV",
      "include_colab_link": true
    },
    "kernelspec": {
      "name": "python3",
      "display_name": "Python 3"
    },
    "language_info": {
      "name": "python"
    },
    "accelerator": "GPU",
    "gpuClass": "standard"
  },
  "cells": [
    {
      "cell_type": "markdown",
      "metadata": {
        "id": "view-in-github",
        "colab_type": "text"
      },
      "source": [
        "<a href=\"https://colab.research.google.com/github/tonystz/cuda/blob/main/cudaTest.ipynb\" target=\"_parent\"><img src=\"https://colab.research.google.com/assets/colab-badge.svg\" alt=\"Open In Colab\"/></a>"
      ]
    },
    {
      "cell_type": "code",
      "execution_count": null,
      "metadata": {
        "id": "z-NEO6Uem3bL"
      },
      "outputs": [],
      "source": [
        "!pip install pycuda # install cuda"
      ]
    },
    {
      "cell_type": "markdown",
      "source": [
        "## CPU vs GPU monte_carlo_pi"
      ],
      "metadata": {
        "id": "OAlslPd7nOHk"
      }
    },
    {
      "cell_type": "code",
      "source": [
        "%%writefile pi.py\n",
        "import time\n",
        "import numpy as np\n",
        "#GPU\n",
        "import pycuda.driver as cuda\n",
        "import pycuda.autoinit\n",
        "from pycuda import gpuarray\n",
        "from pycuda.compiler import SourceModule\n",
        "\n",
        "\n",
        "total = 10000000\n",
        "#total = 100000\n",
        "data=np.random.rand(total,2).astype(np.float64)\n",
        "\n",
        "t=time.time()\n",
        "hits = 0\n",
        "for i in data:\n",
        "    x,y = i\n",
        "    if (x ** 2 + y ** 2) <= 1 :\n",
        "        hits+=1\n",
        "print(f'CPU time:{time.time()-t} hits={hits} total={total} pi={hits * 4.0 / total}')\n",
        "\n",
        "\n",
        "t=time.time()\n",
        "mod = SourceModule(\"\"\"\n",
        "    #include <stdio.h>\n",
        "\n",
        "    __global__ void cal_pi(double *in, unsigned long long *out)\n",
        "    { \n",
        "      unsigned long long idx = threadIdx.x + blockIdx.x * blockDim.x;\n",
        "      const int colSize=2;\n",
        "      double x = in[idx*colSize];\n",
        "      double y = in[idx*colSize+1];\n",
        "      if ((x*x + y*y) <= 1.0)\n",
        "        out[idx]=1;\n",
        "      //printf(\"[%llu]%f %f\\\\n\",idx,in[idx*colSize],in[idx*colSize+1]);\n",
        "      \n",
        "    }\n",
        "    \"\"\")\n",
        "\n",
        "cal_pi = mod.get_function(\"cal_pi\")\n",
        "data_gpu = gpuarray.to_gpu(data)\n",
        "out_gpu = gpuarray.zeros((total,1),dtype=np.uint64)\n",
        "cal_pi(data_gpu,out_gpu,block=(1000,1,1),grid=(int(total/1000),1,1))\n",
        "hits=sum(out_gpu.get())[0]\n",
        "print(f'GPU time:{time.time()-t} hits={hits} total={total} pi={hits * 4.0 / total}')"
      ],
      "metadata": {
        "colab": {
          "base_uri": "https://localhost:8080/"
        },
        "id": "RpaEDyxOnRcQ",
        "outputId": "912b7ed4-5005-4bc6-c90d-5f3ee37f3a95"
      },
      "execution_count": 86,
      "outputs": [
        {
          "output_type": "stream",
          "name": "stdout",
          "text": [
            "Overwriting pi.py\n"
          ]
        }
      ]
    },
    {
      "cell_type": "code",
      "source": [
        "!python pi.py"
      ],
      "metadata": {
        "colab": {
          "base_uri": "https://localhost:8080/"
        },
        "id": "X4AXF8hsndg6",
        "outputId": "dba443ef-aba7-4f22-cfef-c5c09d3c805a"
      },
      "execution_count": 88,
      "outputs": [
        {
          "output_type": "stream",
          "name": "stdout",
          "text": [
            "CPU time:17.94016194343567 hits=7854174 total=10000000 pi=3.1416696\n",
            "GPU time:6.581101417541504 hits=7854174 total=10000000 pi=3.1416696\n"
          ]
        }
      ]
    },
    {
      "cell_type": "code",
      "source": [
        "/tmp/tmpywp3did2/kernel.cu"
      ],
      "metadata": {
        "id": "HlpBr0A9yxtX"
      },
      "execution_count": null,
      "outputs": []
    }
  ]
}