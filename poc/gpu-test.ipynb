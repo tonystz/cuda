{
  "nbformat": 4,
  "nbformat_minor": 0,
  "metadata": {
    "colab": {
      "provenance": [],
      "include_colab_link": true
    },
    "kernelspec": {
      "name": "python3",
      "display_name": "Python 3"
    },
    "language_info": {
      "name": "python"
    },
    "accelerator": "GPU",
    "gpuClass": "standard"
  },
  "cells": [
    {
      "cell_type": "markdown",
      "metadata": {
        "id": "view-in-github",
        "colab_type": "text"
      },
      "source": [
        "<a href=\"https://colab.research.google.com/github/tonystz/cuda/blob/main/poc/gpu-test.ipynb\" target=\"_parent\"><img src=\"https://colab.research.google.com/assets/colab-badge.svg\" alt=\"Open In Colab\"/></a>"
      ]
    },
    {
      "cell_type": "markdown",
      "source": [
        "###Get code"
      ],
      "metadata": {
        "id": "-lNRdW8WQhIB"
      }
    },
    {
      "cell_type": "code",
      "execution_count": null,
      "metadata": {
        "id": "lX8LU9gf-lup"
      },
      "outputs": [],
      "source": [
        "!git clone https://github.com/tonystz/cuda.git"
      ]
    },
    {
      "cell_type": "code",
      "source": [
        "from google.colab import drive\n",
        "drive.mount('/content/drive')"
      ],
      "metadata": {
        "id": "NJBjpKAyt7-z",
        "outputId": "a7659b20-d082-4984-d7a0-250540dcd7f1",
        "colab": {
          "base_uri": "https://localhost:8080/"
        }
      },
      "execution_count": 3,
      "outputs": [
        {
          "output_type": "stream",
          "name": "stdout",
          "text": [
            "Mounted at /content/drive\n"
          ]
        }
      ]
    },
    {
      "cell_type": "code",
      "source": [
        "!python cuda/poc/raw.py"
      ],
      "metadata": {
        "id": "TC7YFr-9GKoU",
        "outputId": "0eceda0b-edcf-48af-921e-5d14bc8ffdc9",
        "colab": {
          "base_uri": "https://localhost:8080/"
        }
      },
      "execution_count": 7,
      "outputs": [
        {
          "output_type": "stream",
          "name": "stdout",
          "text": [
            "use google drive raw log\n",
            "[step0]preprocess raw log: total=1153965 skip=12507 2.2242274284362793\n"
          ]
        }
      ]
    },
    {
      "cell_type": "markdown",
      "source": [
        "\n",
        "###CPU"
      ],
      "metadata": {
        "id": "75fPDr4RQkn3"
      }
    },
    {
      "cell_type": "code",
      "source": [
        "!python cuda/poc/cpu.py"
      ],
      "metadata": {
        "colab": {
          "base_uri": "https://localhost:8080/"
        },
        "id": "hDh5YFCvC01F",
        "outputId": "9aa0ef10-4d70-400f-8372-e6408408c195"
      },
      "execution_count": null,
      "outputs": [
        {
          "output_type": "stream",
          "name": "stdout",
          "text": [
            "[step1]reload data: 1.5039465427398682 (1141458,) |S44 1141458 [b'::1-200' b'::1-200' b'::1-404' ... b'180.163.28.55-200'\n",
            " b'180.163.28.55-200' b'180.163.28.55-200']\n",
            "[step2]404 data filter: 0.3014388084411621 202448\n",
            "[step3]check result: 0.09853696823120117 [('216.244.66.200', 1081), ('217.174.192.132', 632), ('66.249.79.234', 638), ('66.249.79.238', 637), ('66.249.79.236', 645), ('23.96.16.211', 1188), ('47.101.154.149', 816), ('47.101.149.21', 809), ('38.54.24.118', 1987)]\n"
          ]
        }
      ]
    },
    {
      "cell_type": "code",
      "source": [
        "!grep '23.96.16.211' pre.log|grep 404 -c"
      ],
      "metadata": {
        "colab": {
          "base_uri": "https://localhost:8080/"
        },
        "id": "-tpqN_sR86-f",
        "outputId": "72d8263e-8a55-4d62-ddae-6527112ee9fb"
      },
      "execution_count": null,
      "outputs": [
        {
          "output_type": "stream",
          "name": "stdout",
          "text": [
            "1188\n"
          ]
        }
      ]
    },
    {
      "cell_type": "markdown",
      "source": [
        "###GPU initialize"
      ],
      "metadata": {
        "id": "C_UrI7hBQ9xH"
      }
    },
    {
      "cell_type": "code",
      "source": [
        "!pip install pycuda # install cuda\n",
        "import pycuda.driver as cuda\n",
        "import pycuda.autoinit\n",
        "from pycuda.compiler import SourceModule\n",
        "import numpy as np"
      ],
      "metadata": {
        "id": "EVRCQDNWG4P0"
      },
      "execution_count": null,
      "outputs": []
    },
    {
      "cell_type": "markdown",
      "source": [
        "###GPU"
      ],
      "metadata": {
        "id": "-Z7WmoqHRKXd"
      }
    },
    {
      "cell_type": "code",
      "source": [
        "#!grep '404' pre.log\n",
        "#!nvcc --cubin -arch sm_75 /tmp/tmp91fglzn7/kernel.cu\n",
        "!cd cuda && git pull\n",
        "!cd cuda/poc && make"
      ],
      "metadata": {
        "id": "YCcZUuNBprpE",
        "outputId": "729ca4a5-25c1-4966-92f2-bcd0f706197b",
        "colab": {
          "base_uri": "https://localhost:8080/"
        }
      },
      "execution_count": 8,
      "outputs": [
        {
          "output_type": "stream",
          "name": "stdout",
          "text": [
            "Already up to date.\n",
            "nvcc -ptx -o kernel.ptx kernel.cu\n",
            "python gpu.py\n",
            "8388608\n",
            "62914560\n",
            "shape: (1141457,) 1141457 |S44\n",
            "[b'::1-200' b'::1-404' b'::1-200' ... b'180.163.28.55-200'\n",
            " b'180.163.28.55-200' b'180.163.28.55-200'] <memory at 0x7f852b9f7340>\n",
            "Thread 0 got pointer: 0x205c00020 heapsize=54789936\n",
            "Thread:0 Total:66969\n",
            "[dedupStackShow]Thread 0 addr: 216.244.66.200=1081\n",
            "[dedupStackShow]Thread 0 addr: 217.174.192.132=632\n",
            "[dedupStackShow]Thread 0 addr: 66.249.79.234=638\n",
            "[dedupStackShow]Thread 0 addr: 66.249.79.238=637\n",
            "[dedupStackShow]Thread 0 addr: 66.249.79.236=645\n",
            "[dedupStackShow]Thread 0 addr: 23.96.16.211=1188\n",
            "[dedupStackShow]Thread 0 addr: 47.101.154.149=816\n",
            "[dedupStackShow]Thread 0 addr: 47.101.149.21=809\n",
            "[dedupStackShow]Thread 0 addr: 38.54.24.118=1987\n"
          ]
        }
      ]
    },
    {
      "cell_type": "markdown",
      "source": [
        "## Try Python buffer interface(memoryview)\n"
      ],
      "metadata": {
        "id": "2dkHfWAIgQsl"
      }
    },
    {
      "cell_type": "code",
      "source": [
        "%%writefile buff.py\n",
        "import pycuda.driver as cuda\n",
        "import pycuda.autoinit  # noqa\n",
        "from pycuda.compiler import SourceModule\n",
        "import numpy as np\n",
        "\n",
        "\n",
        "mod = SourceModule(\"\"\"\n",
        "    __global__ void bufferInterface(char *a, int len)\n",
        "    {\n",
        "      int idx = threadIdx.x + threadIdx.y*4;\n",
        "      printf(\"[%d]From raw buffer interface:%s  len=%d\\\\n\",idx,a,len);\n",
        "      for(int i=0;i<len;i++){\n",
        "        if(a[i]==0){\n",
        "          printf(\"[%d]From raw buffer interface:%s \\\\n\",idx,a+i+1);\n",
        "        }\n",
        "        //printf(\"[%d]From raw buffer interface:%s \\\\n\",idx,a);\n",
        "      }\n",
        "    }\n",
        "    \"\"\")\n",
        "\n",
        "bufferInterface = mod.get_function(\"bufferInterface\")\n",
        "mv=memoryview(b'hellworld3\\0this is a nother string')\n",
        "mv_gpu=cuda.to_device(mv)\n",
        "bufferInterface(mv_gpu, np.int32(mv.shape[0]),block=(2, 1, 1), grid=(1, 1), shared=0)"
      ],
      "metadata": {
        "colab": {
          "base_uri": "https://localhost:8080/"
        },
        "id": "kFHQczG4qyfu",
        "outputId": "70f12cd7-7ea7-45e8-d9b4-b92483287d05"
      },
      "execution_count": null,
      "outputs": [
        {
          "output_type": "stream",
          "name": "stdout",
          "text": [
            "Overwriting buff.py\n"
          ]
        }
      ]
    },
    {
      "cell_type": "code",
      "source": [
        "!python buff.py"
      ],
      "metadata": {
        "colab": {
          "base_uri": "https://localhost:8080/"
        },
        "id": "okJoo3SSrrBL",
        "outputId": "40423d67-d7e5-4bd0-a4fd-7f7806aa1ddc"
      },
      "execution_count": null,
      "outputs": [
        {
          "output_type": "stream",
          "name": "stdout",
          "text": [
            "[0]From raw buffer interface:hellworld3  len=34\n",
            "[1]From raw buffer interface:hellworld3  len=34\n",
            "[0]From raw buffer interface:this is a nother string \n",
            "[1]From raw buffer interface:this is a nother string \n"
          ]
        }
      ]
    },
    {
      "cell_type": "markdown",
      "source": [
        "##Try cuda-python  usage"
      ],
      "metadata": {
        "id": "Ho_jxTJIoe7D"
      }
    },
    {
      "cell_type": "code",
      "source": [
        "!pip install cuda-python"
      ],
      "metadata": {
        "id": "Sdj7YwVelHSx"
      },
      "execution_count": null,
      "outputs": []
    },
    {
      "cell_type": "code",
      "source": [
        "from cuda import cuda\n",
        "\n",
        "status, pvalue=cuda.cuCtxGetLimit(cuda.CUlimit.CU_LIMIT_MALLOC_HEAP_SIZE)\n",
        "print(\"heap size:\",status,pvalue)\n",
        "\n",
        "cuda.cuCtxSetLimit(cuda.CUlimit.CU_LIMIT_MALLOC_HEAP_SIZE,20*1024*1024)\n",
        "\n",
        "print(\"heap size:\",cuda.cuCtxGetLimit(cuda.CUlimit.CU_LIMIT_MALLOC_HEAP_SIZE))"
      ],
      "metadata": {
        "id": "tbpNy2nLRUSl",
        "outputId": "ceeb9bdb-ff00-44ba-b65b-b416389624bb",
        "colab": {
          "base_uri": "https://localhost:8080/"
        }
      },
      "execution_count": null,
      "outputs": [
        {
          "output_type": "stream",
          "name": "stdout",
          "text": [
            "heap size: CUresult.CUDA_SUCCESS 20971520\n",
            "heap size: (<CUresult.CUDA_SUCCESS: 0>, 20971520)\n"
          ]
        }
      ]
    },
    {
      "cell_type": "markdown",
      "source": [
        "## Try cuda c usage"
      ],
      "metadata": {
        "id": "c5xGvWEpok8r"
      }
    },
    {
      "cell_type": "code",
      "source": [
        "%%writefile a.cu\n",
        "#include <cuda.h>\n",
        "#include <stdio.h>\n",
        "\n",
        "int main(int argc, char const *argv[]) {\n",
        "    // cuda initialization via cudaMalloc\n",
        "    size_t limit = 0;\n",
        "\n",
        "    cudaDeviceGetLimit(&limit, cudaLimitMallocHeapSize);\n",
        "    printf(\"cudaLimitMallocHeapSize: %u\\n\", (unsigned)limit);\n",
        "    cudaDeviceGetLimit(&limit, cudaLimitPrintfFifoSize);\n",
        "    printf(\"cudaLimitPrintfFifoSize: %u\\n\", (unsigned)limit);\n",
        "    cudaDeviceGetLimit(&limit, cudaLimitMallocHeapSize);\n",
        "    printf(\"cudaLimitMallocHeapSize: %u\\n\", (unsigned)limit);\n",
        "\n",
        "}"
      ],
      "metadata": {
        "id": "p-K2R-jlWPuB",
        "outputId": "c6ecdf14-c94c-42b6-f214-f80c57cf326e",
        "colab": {
          "base_uri": "https://localhost:8080/"
        }
      },
      "execution_count": null,
      "outputs": [
        {
          "output_type": "stream",
          "name": "stdout",
          "text": [
            "Overwriting a.cu\n"
          ]
        }
      ]
    },
    {
      "cell_type": "code",
      "source": [
        "!nvcc a.cu -o query\n",
        "!nvprof ./query"
      ],
      "metadata": {
        "id": "jjLWGlY9W6ex",
        "outputId": "4b1543c9-205c-414a-e20d-9e7ae9149034",
        "colab": {
          "base_uri": "https://localhost:8080/"
        }
      },
      "execution_count": null,
      "outputs": [
        {
          "output_type": "stream",
          "name": "stdout",
          "text": [
            "==45382== NVPROF is profiling process 45382, command: ./query\n",
            "cudaLimitMallocHeapSize: 8388608\n",
            "cudaLimitPrintfFifoSize: 1310720\n",
            "cudaLimitMallocHeapSize: 8388608\n",
            "==45382== Profiling application: ./query\n",
            "==45382== Profiling result:\n",
            "No kernels were profiled.\n",
            "            Type  Time(%)      Time     Calls       Avg       Min       Max  Name\n",
            "      API calls:   99.86%  111.61ms         3  37.202ms     780ns  111.60ms  cudaDeviceGetLimit\n",
            "                    0.11%  120.35us       101  1.1910us     135ns  50.351us  cuDeviceGetAttribute\n",
            "                    0.02%  25.205us         1  25.205us  25.205us  25.205us  cuDeviceGetName\n",
            "                    0.01%  7.0620us         1  7.0620us  7.0620us  7.0620us  cuDeviceGetPCIBusId\n",
            "                    0.00%  2.0930us         3     697ns     216ns  1.6050us  cuDeviceGetCount\n",
            "                    0.00%     975ns         2     487ns     267ns     708ns  cuDeviceGet\n",
            "                    0.00%     463ns         1     463ns     463ns     463ns  cuDeviceTotalMem\n",
            "                    0.00%     444ns         1     444ns     444ns     444ns  cuModuleGetLoadingMode\n",
            "                    0.00%     207ns         1     207ns     207ns     207ns  cuDeviceGetUuid\n"
          ]
        }
      ]
    }
  ]
}