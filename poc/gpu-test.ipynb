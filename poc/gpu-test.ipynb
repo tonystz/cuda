{
  "nbformat": 4,
  "nbformat_minor": 0,
  "metadata": {
    "colab": {
      "provenance": [],
      "toc_visible": true,
      "include_colab_link": true
    },
    "kernelspec": {
      "name": "python3",
      "display_name": "Python 3"
    },
    "language_info": {
      "name": "python"
    },
    "accelerator": "GPU",
    "gpuClass": "standard"
  },
  "cells": [
    {
      "cell_type": "markdown",
      "metadata": {
        "id": "view-in-github",
        "colab_type": "text"
      },
      "source": [
        "<a href=\"https://colab.research.google.com/github/tonystz/cuda/blob/main/poc/gpu-test.ipynb\" target=\"_parent\"><img src=\"https://colab.research.google.com/assets/colab-badge.svg\" alt=\"Open In Colab\"/></a>"
      ]
    },
    {
      "cell_type": "markdown",
      "source": [
        "###Get code"
      ],
      "metadata": {
        "id": "-lNRdW8WQhIB"
      }
    },
    {
      "cell_type": "code",
      "execution_count": 61,
      "metadata": {
        "id": "lX8LU9gf-lup",
        "colab": {
          "base_uri": "https://localhost:8080/"
        },
        "outputId": "bf9e431c-9a85-4412-c099-d4b9df81536e"
      },
      "outputs": [
        {
          "output_type": "stream",
          "name": "stdout",
          "text": [
            "Cloning into 'cuda'...\n",
            "remote: Enumerating objects: 231, done.\u001b[K\n",
            "remote: Counting objects:   3% (1/29)\u001b[K\rremote: Counting objects:   6% (2/29)\u001b[K\rremote: Counting objects:  10% (3/29)\u001b[K\rremote: Counting objects:  13% (4/29)\u001b[K\rremote: Counting objects:  17% (5/29)\u001b[K\rremote: Counting objects:  20% (6/29)\u001b[K\rremote: Counting objects:  24% (7/29)\u001b[K\rremote: Counting objects:  27% (8/29)\u001b[K\rremote: Counting objects:  31% (9/29)\u001b[K\rremote: Counting objects:  34% (10/29)\u001b[K\rremote: Counting objects:  37% (11/29)\u001b[K\rremote: Counting objects:  41% (12/29)\u001b[K\rremote: Counting objects:  44% (13/29)\u001b[K\rremote: Counting objects:  48% (14/29)\u001b[K\rremote: Counting objects:  51% (15/29)\u001b[K\rremote: Counting objects:  55% (16/29)\u001b[K\rremote: Counting objects:  58% (17/29)\u001b[K\rremote: Counting objects:  62% (18/29)\u001b[K\rremote: Counting objects:  65% (19/29)\u001b[K\rremote: Counting objects:  68% (20/29)\u001b[K\rremote: Counting objects:  72% (21/29)\u001b[K\rremote: Counting objects:  75% (22/29)\u001b[K\rremote: Counting objects:  79% (23/29)\u001b[K\rremote: Counting objects:  82% (24/29)\u001b[K\rremote: Counting objects:  86% (25/29)\u001b[K\rremote: Counting objects:  89% (26/29)\u001b[K\rremote: Counting objects:  93% (27/29)\u001b[K\rremote: Counting objects:  96% (28/29)\u001b[K\rremote: Counting objects: 100% (29/29)\u001b[K\rremote: Counting objects: 100% (29/29), done.\u001b[K\n",
            "remote: Compressing objects:   5% (1/20)\u001b[K\rremote: Compressing objects:  10% (2/20)\u001b[K\rremote: Compressing objects:  15% (3/20)\u001b[K\rremote: Compressing objects:  20% (4/20)\u001b[K\rremote: Compressing objects:  25% (5/20)\u001b[K\rremote: Compressing objects:  30% (6/20)\u001b[K\rremote: Compressing objects:  35% (7/20)\u001b[K\rremote: Compressing objects:  40% (8/20)\u001b[K\rremote: Compressing objects:  45% (9/20)\u001b[K\rremote: Compressing objects:  50% (10/20)\u001b[K\rremote: Compressing objects:  55% (11/20)\u001b[K\rremote: Compressing objects:  60% (12/20)\u001b[K\rremote: Compressing objects:  65% (13/20)\u001b[K\rremote: Compressing objects:  70% (14/20)\u001b[K\rremote: Compressing objects:  75% (15/20)\u001b[K\rremote: Compressing objects:  80% (16/20)\u001b[K\rremote: Compressing objects:  85% (17/20)\u001b[K\rremote: Compressing objects:  90% (18/20)\u001b[K\rremote: Compressing objects:  95% (19/20)\u001b[K\rremote: Compressing objects: 100% (20/20)\u001b[K\rremote: Compressing objects: 100% (20/20), done.\u001b[K\n",
            "Receiving objects:   0% (1/231)\rReceiving objects:   1% (3/231)\rReceiving objects:   2% (5/231)\rReceiving objects:   3% (7/231)\rReceiving objects:   4% (10/231)\rReceiving objects:   5% (12/231)\rReceiving objects:   6% (14/231)\rReceiving objects:   7% (17/231)\rReceiving objects:   8% (19/231)\rReceiving objects:   9% (21/231)\rReceiving objects:  10% (24/231)\rReceiving objects:  11% (26/231)\rReceiving objects:  12% (28/231)\rReceiving objects:  13% (31/231)\rReceiving objects:  14% (33/231)\rReceiving objects:  15% (35/231)\rReceiving objects:  16% (37/231)\rReceiving objects:  17% (40/231)\rReceiving objects:  18% (42/231)\rReceiving objects:  19% (44/231)\rReceiving objects:  20% (47/231)\rReceiving objects:  21% (49/231)\rReceiving objects:  22% (51/231)\rReceiving objects:  23% (54/231)\rReceiving objects:  24% (56/231)\rReceiving objects:  25% (58/231)\rReceiving objects:  26% (61/231)\rReceiving objects:  27% (63/231)\rReceiving objects:  28% (65/231)\rReceiving objects:  29% (67/231)\rReceiving objects:  30% (70/231)\rReceiving objects:  31% (72/231)\rReceiving objects:  32% (74/231)\rReceiving objects:  33% (77/231)\rReceiving objects:  34% (79/231)\rReceiving objects:  35% (81/231)\rReceiving objects:  36% (84/231)\rReceiving objects:  37% (86/231)\rReceiving objects:  38% (88/231)\rReceiving objects:  39% (91/231)\rReceiving objects:  40% (93/231)\rReceiving objects:  41% (95/231)\rReceiving objects:  42% (98/231)\rReceiving objects:  43% (100/231)\rReceiving objects:  44% (102/231)\rReceiving objects:  45% (104/231)\rReceiving objects:  46% (107/231)\rReceiving objects:  47% (109/231)\rReceiving objects:  48% (111/231)\rReceiving objects:  49% (114/231)\rReceiving objects:  50% (116/231)\rReceiving objects:  51% (118/231)\rReceiving objects:  52% (121/231)\rReceiving objects:  53% (123/231)\rReceiving objects:  54% (125/231)\rReceiving objects:  55% (128/231)\rReceiving objects:  56% (130/231)\rReceiving objects:  57% (132/231)\rReceiving objects:  58% (134/231)\rReceiving objects:  59% (137/231)\rReceiving objects:  60% (139/231)\rReceiving objects:  61% (141/231)\rReceiving objects:  62% (144/231)\rremote: Total 231 (delta 18), reused 18 (delta 9), pack-reused 202\u001b[K\n",
            "Receiving objects:  63% (146/231)\rReceiving objects:  64% (148/231)\rReceiving objects:  65% (151/231)\rReceiving objects:  66% (153/231)\rReceiving objects:  67% (155/231)\rReceiving objects:  68% (158/231)\rReceiving objects:  69% (160/231)\rReceiving objects:  70% (162/231)\rReceiving objects:  71% (165/231)\rReceiving objects:  72% (167/231)\rReceiving objects:  73% (169/231)\rReceiving objects:  74% (171/231)\rReceiving objects:  75% (174/231)\rReceiving objects:  76% (176/231)\rReceiving objects:  77% (178/231)\rReceiving objects:  78% (181/231)\rReceiving objects:  79% (183/231)\rReceiving objects:  80% (185/231)\rReceiving objects:  81% (188/231)\rReceiving objects:  82% (190/231)\rReceiving objects:  83% (192/231)\rReceiving objects:  84% (195/231)\rReceiving objects:  85% (197/231)\rReceiving objects:  86% (199/231)\rReceiving objects:  87% (201/231)\rReceiving objects:  88% (204/231)\rReceiving objects:  89% (206/231)\rReceiving objects:  90% (208/231)\rReceiving objects:  91% (211/231)\rReceiving objects:  92% (213/231)\rReceiving objects:  93% (215/231)\rReceiving objects:  94% (218/231)\rReceiving objects:  95% (220/231)\rReceiving objects:  96% (222/231)\rReceiving objects:  97% (225/231)\rReceiving objects:  98% (227/231)\rReceiving objects:  99% (229/231)\rReceiving objects: 100% (231/231)\rReceiving objects: 100% (231/231), 236.07 KiB | 18.16 MiB/s, done.\n",
            "Resolving deltas:   0% (0/133)\rResolving deltas:  22% (30/133)\rResolving deltas:  27% (36/133)\rResolving deltas:  37% (50/133)\rResolving deltas:  40% (54/133)\rResolving deltas:  42% (57/133)\rResolving deltas:  51% (68/133)\rResolving deltas:  52% (70/133)\rResolving deltas:  53% (71/133)\rResolving deltas:  55% (74/133)\rResolving deltas:  57% (77/133)\rResolving deltas:  59% (79/133)\rResolving deltas:  60% (81/133)\rResolving deltas:  61% (82/133)\rResolving deltas:  62% (83/133)\rResolving deltas:  63% (85/133)\rResolving deltas:  73% (98/133)\rResolving deltas:  76% (102/133)\rResolving deltas:  80% (107/133)\rResolving deltas:  81% (108/133)\rResolving deltas:  85% (114/133)\rResolving deltas:  90% (120/133)\rResolving deltas:  93% (125/133)\rResolving deltas: 100% (133/133)\rResolving deltas: 100% (133/133), done.\n"
          ]
        }
      ],
      "source": [
        "!git clone https://github.com/tonystz/cuda.git"
      ]
    },
    {
      "cell_type": "code",
      "source": [
        "from google.colab import drive\n",
        "drive.mount('/content/drive')"
      ],
      "metadata": {
        "id": "NJBjpKAyt7-z",
        "outputId": "bfd0fe70-feab-4fc8-e773-dee31d6fdd05",
        "colab": {
          "base_uri": "https://localhost:8080/"
        }
      },
      "execution_count": 1,
      "outputs": [
        {
          "output_type": "stream",
          "name": "stdout",
          "text": [
            "Mounted at /content/drive\n"
          ]
        }
      ]
    },
    {
      "cell_type": "code",
      "source": [
        "!python cuda/poc/raw.py"
      ],
      "metadata": {
        "id": "TC7YFr-9GKoU",
        "outputId": "aee32e12-d418-45c1-8452-94c2f80466ab",
        "colab": {
          "base_uri": "https://localhost:8080/"
        }
      },
      "execution_count": 80,
      "outputs": [
        {
          "output_type": "stream",
          "name": "stdout",
          "text": [
            "use sample raw log\n",
            "[step0]preprocess raw log: total=80 skip=0 0.0032143592834472656\n"
          ]
        }
      ]
    },
    {
      "cell_type": "markdown",
      "source": [
        "\n",
        "###CPU"
      ],
      "metadata": {
        "id": "75fPDr4RQkn3"
      }
    },
    {
      "cell_type": "code",
      "source": [
        "!python cuda/poc/cpu.py"
      ],
      "metadata": {
        "colab": {
          "base_uri": "https://localhost:8080/"
        },
        "id": "hDh5YFCvC01F",
        "outputId": "9aa0ef10-4d70-400f-8372-e6408408c195"
      },
      "execution_count": 63,
      "outputs": [
        {
          "output_type": "stream",
          "name": "stdout",
          "text": [
            "[step1]reload data: 1.5039465427398682 (1141458,) |S44 1141458 [b'::1-200' b'::1-200' b'::1-404' ... b'180.163.28.55-200'\n",
            " b'180.163.28.55-200' b'180.163.28.55-200']\n",
            "[step2]404 data filter: 0.3014388084411621 202448\n",
            "[step3]check result: 0.09853696823120117 [('216.244.66.200', 1081), ('217.174.192.132', 632), ('66.249.79.234', 638), ('66.249.79.238', 637), ('66.249.79.236', 645), ('23.96.16.211', 1188), ('47.101.154.149', 816), ('47.101.149.21', 809), ('38.54.24.118', 1987)]\n"
          ]
        }
      ]
    },
    {
      "cell_type": "code",
      "source": [
        "!grep '23.96.16.211' pre.log|grep 404 -c"
      ],
      "metadata": {
        "colab": {
          "base_uri": "https://localhost:8080/"
        },
        "id": "-tpqN_sR86-f",
        "outputId": "72d8263e-8a55-4d62-ddae-6527112ee9fb"
      },
      "execution_count": 66,
      "outputs": [
        {
          "output_type": "stream",
          "name": "stdout",
          "text": [
            "1188\n"
          ]
        }
      ]
    },
    {
      "cell_type": "markdown",
      "source": [
        "###GPU initialize"
      ],
      "metadata": {
        "id": "C_UrI7hBQ9xH"
      }
    },
    {
      "cell_type": "code",
      "source": [
        "!pip install pycuda # install cuda\n",
        "import pycuda.driver as cuda\n",
        "import pycuda.autoinit\n",
        "from pycuda.compiler import SourceModule\n",
        "import numpy as np"
      ],
      "metadata": {
        "id": "EVRCQDNWG4P0"
      },
      "execution_count": null,
      "outputs": []
    },
    {
      "cell_type": "markdown",
      "source": [
        "###GPU"
      ],
      "metadata": {
        "id": "-Z7WmoqHRKXd"
      }
    },
    {
      "cell_type": "code",
      "source": [
        "#!grep '404' pre.log\n",
        "#!nvcc --cubin -arch sm_75 /tmp/tmp91fglzn7/kernel.cu\n",
        "!cd cuda && git pull\n",
        "!cd cuda/poc && make"
      ],
      "metadata": {
        "id": "YCcZUuNBprpE"
      },
      "execution_count": null,
      "outputs": []
    },
    {
      "cell_type": "markdown",
      "source": [
        "## Try Python buffer interface(memoryview)\n"
      ],
      "metadata": {
        "id": "2dkHfWAIgQsl"
      }
    },
    {
      "cell_type": "code",
      "source": [
        "%%writefile buff.py\n",
        "import pycuda.driver as cuda\n",
        "import pycuda.autoinit  # noqa\n",
        "from pycuda.compiler import SourceModule\n",
        "import numpy as np\n",
        "\n",
        "\n",
        "mod = SourceModule(\"\"\"\n",
        "    __global__ void bufferInterface(char *a, int len)\n",
        "    {\n",
        "      int idx = threadIdx.x + threadIdx.y*4;\n",
        "      printf(\"[%d]From raw buffer interface:%s  len=%d\\\\n\",idx,a,len);\n",
        "      for(int i=0;i<len;i++){\n",
        "        if(a[i]==0){\n",
        "          printf(\"[%d]From raw buffer interface:%s \\\\n\",idx,a+i+1);\n",
        "        }\n",
        "        //printf(\"[%d]From raw buffer interface:%s \\\\n\",idx,a);\n",
        "      }\n",
        "    }\n",
        "    \"\"\")\n",
        "\n",
        "bufferInterface = mod.get_function(\"bufferInterface\")\n",
        "mv=memoryview(b'hellworld3\\0this is a nother string')\n",
        "mv_gpu=cuda.to_device(mv)\n",
        "bufferInterface(mv_gpu, np.int32(mv.shape[0]),block=(2, 1, 1), grid=(1, 1), shared=0)"
      ],
      "metadata": {
        "colab": {
          "base_uri": "https://localhost:8080/"
        },
        "id": "kFHQczG4qyfu",
        "outputId": "70f12cd7-7ea7-45e8-d9b4-b92483287d05"
      },
      "execution_count": 48,
      "outputs": [
        {
          "output_type": "stream",
          "name": "stdout",
          "text": [
            "Overwriting buff.py\n"
          ]
        }
      ]
    },
    {
      "cell_type": "code",
      "source": [
        "!python buff.py"
      ],
      "metadata": {
        "colab": {
          "base_uri": "https://localhost:8080/"
        },
        "id": "okJoo3SSrrBL",
        "outputId": "40423d67-d7e5-4bd0-a4fd-7f7806aa1ddc"
      },
      "execution_count": 49,
      "outputs": [
        {
          "output_type": "stream",
          "name": "stdout",
          "text": [
            "[0]From raw buffer interface:hellworld3  len=34\n",
            "[1]From raw buffer interface:hellworld3  len=34\n",
            "[0]From raw buffer interface:this is a nother string \n",
            "[1]From raw buffer interface:this is a nother string \n"
          ]
        }
      ]
    },
    {
      "cell_type": "markdown",
      "source": [
        "##Try cuda-python  usage"
      ],
      "metadata": {
        "id": "Ho_jxTJIoe7D"
      }
    },
    {
      "cell_type": "code",
      "source": [
        "!pip install cuda-python"
      ],
      "metadata": {
        "id": "Sdj7YwVelHSx"
      },
      "execution_count": null,
      "outputs": []
    },
    {
      "cell_type": "code",
      "source": [
        "from cuda import cuda\n",
        "\n",
        "status, pvalue=cuda.cuCtxGetLimit(cuda.CUlimit.CU_LIMIT_MALLOC_HEAP_SIZE)\n",
        "print(\"heap size:\",status,pvalue)\n",
        "\n",
        "cuda.cuCtxSetLimit(cuda.CUlimit.CU_LIMIT_MALLOC_HEAP_SIZE,20*1024*1024)\n",
        "\n",
        "print(\"heap size:\",cuda.cuCtxGetLimit(cuda.CUlimit.CU_LIMIT_MALLOC_HEAP_SIZE))"
      ],
      "metadata": {
        "id": "tbpNy2nLRUSl",
        "outputId": "ceeb9bdb-ff00-44ba-b65b-b416389624bb",
        "colab": {
          "base_uri": "https://localhost:8080/"
        }
      },
      "execution_count": 25,
      "outputs": [
        {
          "output_type": "stream",
          "name": "stdout",
          "text": [
            "heap size: CUresult.CUDA_SUCCESS 20971520\n",
            "heap size: (<CUresult.CUDA_SUCCESS: 0>, 20971520)\n"
          ]
        }
      ]
    },
    {
      "cell_type": "markdown",
      "source": [
        "## Try cuda c usage"
      ],
      "metadata": {
        "id": "c5xGvWEpok8r"
      }
    },
    {
      "cell_type": "code",
      "source": [
        "%%writefile a.cu\n",
        "#include <cuda.h>\n",
        "#include <stdio.h>\n",
        "\n",
        "int main(int argc, char const *argv[]) {\n",
        "    // cuda initialization via cudaMalloc\n",
        "    size_t limit = 0;\n",
        "\n",
        "    cudaDeviceGetLimit(&limit, cudaLimitMallocHeapSize);\n",
        "    printf(\"cudaLimitMallocHeapSize: %u\\n\", (unsigned)limit);\n",
        "    cudaDeviceGetLimit(&limit, cudaLimitPrintfFifoSize);\n",
        "    printf(\"cudaLimitPrintfFifoSize: %u\\n\", (unsigned)limit);\n",
        "    cudaDeviceGetLimit(&limit, cudaLimitMallocHeapSize);\n",
        "    printf(\"cudaLimitMallocHeapSize: %u\\n\", (unsigned)limit);\n",
        "\n",
        "}"
      ],
      "metadata": {
        "id": "p-K2R-jlWPuB",
        "outputId": "c6ecdf14-c94c-42b6-f214-f80c57cf326e",
        "colab": {
          "base_uri": "https://localhost:8080/"
        }
      },
      "execution_count": null,
      "outputs": [
        {
          "output_type": "stream",
          "name": "stdout",
          "text": [
            "Overwriting a.cu\n"
          ]
        }
      ]
    },
    {
      "cell_type": "code",
      "source": [
        "!nvcc a.cu -o query\n",
        "!nvprof ./query"
      ],
      "metadata": {
        "id": "jjLWGlY9W6ex",
        "outputId": "4b1543c9-205c-414a-e20d-9e7ae9149034",
        "colab": {
          "base_uri": "https://localhost:8080/"
        }
      },
      "execution_count": null,
      "outputs": [
        {
          "output_type": "stream",
          "name": "stdout",
          "text": [
            "==45382== NVPROF is profiling process 45382, command: ./query\n",
            "cudaLimitMallocHeapSize: 8388608\n",
            "cudaLimitPrintfFifoSize: 1310720\n",
            "cudaLimitMallocHeapSize: 8388608\n",
            "==45382== Profiling application: ./query\n",
            "==45382== Profiling result:\n",
            "No kernels were profiled.\n",
            "            Type  Time(%)      Time     Calls       Avg       Min       Max  Name\n",
            "      API calls:   99.86%  111.61ms         3  37.202ms     780ns  111.60ms  cudaDeviceGetLimit\n",
            "                    0.11%  120.35us       101  1.1910us     135ns  50.351us  cuDeviceGetAttribute\n",
            "                    0.02%  25.205us         1  25.205us  25.205us  25.205us  cuDeviceGetName\n",
            "                    0.01%  7.0620us         1  7.0620us  7.0620us  7.0620us  cuDeviceGetPCIBusId\n",
            "                    0.00%  2.0930us         3     697ns     216ns  1.6050us  cuDeviceGetCount\n",
            "                    0.00%     975ns         2     487ns     267ns     708ns  cuDeviceGet\n",
            "                    0.00%     463ns         1     463ns     463ns     463ns  cuDeviceTotalMem\n",
            "                    0.00%     444ns         1     444ns     444ns     444ns  cuModuleGetLoadingMode\n",
            "                    0.00%     207ns         1     207ns     207ns     207ns  cuDeviceGetUuid\n"
          ]
        }
      ]
    }
  ]
}