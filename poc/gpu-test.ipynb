{
  "nbformat": 4,
  "nbformat_minor": 0,
  "metadata": {
    "colab": {
      "provenance": [],
      "include_colab_link": true
    },
    "kernelspec": {
      "name": "python3",
      "display_name": "Python 3"
    },
    "language_info": {
      "name": "python"
    },
    "accelerator": "GPU",
    "gpuClass": "standard"
  },
  "cells": [
    {
      "cell_type": "markdown",
      "metadata": {
        "id": "view-in-github",
        "colab_type": "text"
      },
      "source": [
        "<a href=\"https://colab.research.google.com/github/tonystz/cuda/blob/main/poc/gpu-test.ipynb\" target=\"_parent\"><img src=\"https://colab.research.google.com/assets/colab-badge.svg\" alt=\"Open In Colab\"/></a>"
      ]
    },
    {
      "cell_type": "markdown",
      "source": [
        "###Get code"
      ],
      "metadata": {
        "id": "-lNRdW8WQhIB"
      }
    },
    {
      "cell_type": "code",
      "execution_count": null,
      "metadata": {
        "id": "lX8LU9gf-lup"
      },
      "outputs": [],
      "source": [
        "!git clone https://github.com/tonystz/cuda.git"
      ]
    },
    {
      "cell_type": "code",
      "source": [
        "from google.colab import drive\n",
        "drive.mount('/content/drive')"
      ],
      "metadata": {
        "id": "NJBjpKAyt7-z",
        "outputId": "b36e5cc2-e30f-4fa7-dbd8-389a1fa102bd",
        "colab": {
          "base_uri": "https://localhost:8080/"
        }
      },
      "execution_count": 3,
      "outputs": [
        {
          "output_type": "stream",
          "name": "stdout",
          "text": [
            "Mounted at /content/drive\n"
          ]
        }
      ]
    },
    {
      "cell_type": "code",
      "source": [
        "!python cuda/poc/raw.py"
      ],
      "metadata": {
        "id": "TC7YFr-9GKoU",
        "outputId": "f3efd67e-44a2-43c3-8b06-b2c5eacaef95",
        "colab": {
          "base_uri": "https://localhost:8080/"
        }
      },
      "execution_count": 7,
      "outputs": [
        {
          "output_type": "stream",
          "name": "stdout",
          "text": [
            "use google drive raw log\n",
            "[step0]preprocess raw log: total=1153965 skip=12507 3.1145408153533936\n"
          ]
        }
      ]
    },
    {
      "cell_type": "markdown",
      "source": [
        "\n",
        "###CPU"
      ],
      "metadata": {
        "id": "75fPDr4RQkn3"
      }
    },
    {
      "cell_type": "code",
      "source": [
        "!python cuda/poc/cpu.py"
      ],
      "metadata": {
        "colab": {
          "base_uri": "https://localhost:8080/"
        },
        "id": "hDh5YFCvC01F",
        "outputId": "129e6f8b-1d94-4940-f1a1-b45049908ce8"
      },
      "execution_count": null,
      "outputs": [
        {
          "output_type": "stream",
          "name": "stdout",
          "text": [
            "[step1]reload data: 1.4388518333435059 (1141458,) |S44 1141458 [b'::1-200' b'::1-200' b'::1-404' ... b'180.163.28.55-200'\n",
            " b'180.163.28.55-200' b'180.163.28.55-200']\n",
            "[step2]404 data filter: 0.30924201011657715 202448\n",
            "[step3]check result: 0.08621692657470703 ['216.244.66.200', '217.174.192.132', '66.249.79.234', '66.249.79.238', '66.249.79.236', '23.96.16.211', '47.101.154.149', '47.101.149.21', '38.54.24.118']\n"
          ]
        }
      ]
    },
    {
      "cell_type": "markdown",
      "source": [
        "###GPU initialize"
      ],
      "metadata": {
        "id": "C_UrI7hBQ9xH"
      }
    },
    {
      "cell_type": "code",
      "source": [
        "!pip install pycuda # install cuda\n",
        "import pycuda.driver as cuda\n",
        "import pycuda.autoinit\n",
        "from pycuda.compiler import SourceModule\n",
        "import numpy as np"
      ],
      "metadata": {
        "id": "EVRCQDNWG4P0"
      },
      "execution_count": null,
      "outputs": []
    },
    {
      "cell_type": "markdown",
      "source": [
        "###GPU"
      ],
      "metadata": {
        "id": "-Z7WmoqHRKXd"
      }
    },
    {
      "cell_type": "code",
      "source": [
        "a=np.loadtxt('pre.log', delimiter=' ', dtype=np.string_,converters={0:lambda v:v+b'\\0'})\n",
        "print(a.shape,a.size,a)"
      ],
      "metadata": {
        "id": "sVM0LpJrRImq",
        "outputId": "f2bf684b-d0d7-4310-ab92-3b8915c70ad9",
        "colab": {
          "base_uri": "https://localhost:8080/"
        }
      },
      "execution_count": null,
      "outputs": [
        {
          "output_type": "stream",
          "name": "stdout",
          "text": [
            "(80,) 80 [b'::1-200' b'::1-200' b'::1-404' b'::1-200' b'183.212.185.122-404'\n",
            " b'183.212.185.121-200' b'183.212.185.121-404' b'183.212.185.122-404'\n",
            " b'183.212.185.121-200' b'183.212.185.122-200' b'183.212.185.121-200'\n",
            " b'183.212.185.121-200' b'183.212.185.121-200' b'183.212.185.121-200'\n",
            " b'183.212.185.121-200' b'183.212.185.121-200' b'183.212.185.121-200'\n",
            " b'183.212.185.121-200' b'183.212.185.121-200' b'183.212.185.121-200'\n",
            " b'183.212.185.121-200' b'183.212.185.121-200' b'183.212.185.121-200'\n",
            " b'183.212.185.121-200' b'183.212.185.121-200' b'183.212.185.121-200'\n",
            " b'183.212.185.121-200' b'183.212.185.121-200' b'183.212.185.121-200'\n",
            " b'183.212.185.121-200' b'183.212.185.121-200' b'183.212.185.121-200'\n",
            " b'183.212.185.121-200' b'183.212.185.121-200' b'183.212.185.121-200'\n",
            " b'183.212.185.121-304' b'183.212.185.121-304' b'183.212.185.121-304'\n",
            " b'183.212.185.121-304' b'183.212.185.121-304' b'183.212.185.121-304'\n",
            " b'183.212.185.121-200' b'183.212.185.121-200' b'183.212.185.121-200'\n",
            " b'183.212.185.121-200' b'183.212.185.121-200' b'183.212.185.121-200'\n",
            " b'183.212.185.121-200' b'183.212.185.121-200' b'183.212.185.121-200'\n",
            " b'183.212.185.121-200' b'183.212.185.121-200' b'183.212.185.121-200'\n",
            " b'183.212.185.121-200' b'183.212.185.121-200' b'183.212.185.121-200'\n",
            " b'183.212.185.121-200' b'183.212.185.121-200' b'183.212.185.121-304'\n",
            " b'183.212.185.121-304' b'183.212.185.121-304' b'183.212.185.121-304'\n",
            " b'183.212.185.121-304' b'183.212.185.121-304' b'183.212.185.121-304'\n",
            " b'183.212.185.121-304' b'183.212.185.121-200' b'183.212.185.121-200'\n",
            " b'183.212.185.121-200' b'183.212.185.121-200' b'183.212.185.121-200'\n",
            " b'183.212.185.121-304' b'183.212.185.121-304' b'183.212.185.121-304'\n",
            " b'183.212.185.121-304' b'183.212.185.121-304' b'183.212.185.121-200'\n",
            " b'183.212.185.121-200' b'183.212.185.121-304' b'183.212.185.121-304']\n"
          ]
        }
      ]
    },
    {
      "cell_type": "code",
      "source": [
        "print(a[0])"
      ],
      "metadata": {
        "colab": {
          "base_uri": "https://localhost:8080/"
        },
        "id": "_WkHuaiPSn0I",
        "outputId": "66abcdfe-f14f-4fa0-c406-8d97ede9a1f6"
      },
      "execution_count": null,
      "outputs": [
        {
          "output_type": "stream",
          "name": "stdout",
          "text": [
            "b'::1-200'\n"
          ]
        }
      ]
    },
    {
      "cell_type": "code",
      "source": [
        "na=np.delete(a,0)\n",
        "na.reshape((479,2383))"
      ],
      "metadata": {
        "colab": {
          "base_uri": "https://localhost:8080/"
        },
        "id": "z7XZDCJjSRS5",
        "outputId": "12f4957f-91c3-4de0-82e4-659f89f5ed32"
      },
      "execution_count": null,
      "outputs": [
        {
          "output_type": "execute_result",
          "data": {
            "text/plain": [
              "array([[b'::1-200', b'::1-404', b'::1-200', ..., b'195.242.110.253-200',\n",
              "        b'110.249.202.11-200', b'110.249.201.69-200'],\n",
              "       [b'110.249.201.206-200', b'207.46.13.23-200',\n",
              "        b'110.249.201.14-200', ..., b'223.104.68.50-200',\n",
              "        b'223.104.68.50-200', b'223.104.68.50-200'],\n",
              "       [b'223.104.68.50-200', b'223.104.68.50-200', b'223.104.68.50-200',\n",
              "        ..., b'125.84.82.12-200', b'125.84.82.12-200',\n",
              "        b'125.84.82.12-200'],\n",
              "       ...,\n",
              "       [b'140.250.200.255-404', b'140.250.200.255-404',\n",
              "        b'52.167.144.32-200', ..., b'180.164.68.86-200',\n",
              "        b'180.164.68.86-200', b'180.164.68.86-200'],\n",
              "       [b'180.164.68.86-200', b'180.164.68.86-200', b'180.164.68.86-200',\n",
              "        ..., b'36.46.86.9-200', b'36.46.86.9-200', b'36.46.86.9-200'],\n",
              "       [b'36.46.86.9-200', b'36.46.86.9-200', b'36.46.86.9-200', ...,\n",
              "        b'180.163.28.55-200', b'180.163.28.55-200', b'180.163.28.55-200']],\n",
              "      dtype='|S44')"
            ]
          },
          "metadata": {},
          "execution_count": 13
        }
      ]
    },
    {
      "cell_type": "code",
      "source": [
        "s= np.array(['180.163.28.55-200\\0','edfg\\0','stz12345678b\\0','b1\\0','k2\\0','hellworld3\\0'], dtype=np.string_)\n",
        "\n",
        "s=s.reshape(2,3)\n",
        "print('shape:',s.shape,s.size)\n",
        "print(s,s.dtype)"
      ],
      "metadata": {
        "colab": {
          "base_uri": "https://localhost:8080/"
        },
        "id": "6ONgM-_6V0Z_",
        "outputId": "717c6b0f-4308-450e-de35-d01841585f17"
      },
      "execution_count": null,
      "outputs": [
        {
          "output_type": "stream",
          "name": "stdout",
          "text": [
            "shape: (2, 3) 6\n",
            "[[b'180.163.28.55-200' b'edfg' b'stz12345678b']\n",
            " [b'b1' b'k2' b'hellworld3']] |S18\n"
          ]
        }
      ]
    },
    {
      "cell_type": "code",
      "source": [
        "from ctypes import *\n",
        "import sys\n",
        "\n",
        "if 'linux' in sys.platform:\n",
        "\tcuda = CDLL('libcuda.so')\n",
        "elif 'win' in sys.platform:\n",
        "\tcuda = CDLL('nvcuda.dll')\n",
        "\n",
        "cuInit = cuda.cuInit\n",
        "cuInit.argtypes = [c_uint]\n",
        "cuInit.restype = int\n",
        "\n",
        "CU_LIMIT_MALLOC_HEAP_SIZE=2\n",
        "cuCtxSetLimit = cuda.cuCtxSetLimit\n",
        "cuCtxSetLimit.argtypes =[c_int,c_size_t]\n",
        "cuCtxSetLimit.restype = int\n",
        "\n",
        "print(cuCtxSetLimit(CU_LIMIT_MALLOC_HEAP_SIZE,8388608))\n"
      ],
      "metadata": {
        "id": "tbpNy2nLRUSl",
        "outputId": "2d3d70d7-1392-4ad8-ec46-3e6b9ffa10ea",
        "colab": {
          "base_uri": "https://localhost:8080/"
        }
      },
      "execution_count": 9,
      "outputs": [
        {
          "output_type": "stream",
          "name": "stdout",
          "text": [
            "3\n"
          ]
        }
      ]
    },
    {
      "cell_type": "code",
      "source": [
        "%%writefile a.cu\n",
        "#include <cuda.h>\n",
        "#include <stdio.h>\n",
        "\n",
        "int main(int argc, char const *argv[]) {\n",
        "    // cuda initialization via cudaMalloc\n",
        "    size_t limit = 0;\n",
        "\n",
        "    cudaDeviceGetLimit(&limit, cudaLimitMallocHeapSize);\n",
        "    printf(\"cudaLimitMallocHeapSize: %u\\n\", (unsigned)limit);\n",
        "    cudaDeviceGetLimit(&limit, cudaLimitPrintfFifoSize);\n",
        "    printf(\"cudaLimitPrintfFifoSize: %u\\n\", (unsigned)limit);\n",
        "    cudaDeviceGetLimit(&limit, cudaLimitMallocHeapSize);\n",
        "    printf(\"cudaLimitMallocHeapSize: %u\\n\", (unsigned)limit);\n",
        "\n",
        "}"
      ],
      "metadata": {
        "id": "p-K2R-jlWPuB",
        "outputId": "c6ecdf14-c94c-42b6-f214-f80c57cf326e",
        "colab": {
          "base_uri": "https://localhost:8080/"
        }
      },
      "execution_count": 20,
      "outputs": [
        {
          "output_type": "stream",
          "name": "stdout",
          "text": [
            "Overwriting a.cu\n"
          ]
        }
      ]
    },
    {
      "cell_type": "code",
      "source": [
        "!nvcc a.cu -o query\n",
        "!nvprof ./query"
      ],
      "metadata": {
        "id": "jjLWGlY9W6ex",
        "outputId": "4b1543c9-205c-414a-e20d-9e7ae9149034",
        "colab": {
          "base_uri": "https://localhost:8080/"
        }
      },
      "execution_count": 21,
      "outputs": [
        {
          "output_type": "stream",
          "name": "stdout",
          "text": [
            "==45382== NVPROF is profiling process 45382, command: ./query\n",
            "cudaLimitMallocHeapSize: 8388608\n",
            "cudaLimitPrintfFifoSize: 1310720\n",
            "cudaLimitMallocHeapSize: 8388608\n",
            "==45382== Profiling application: ./query\n",
            "==45382== Profiling result:\n",
            "No kernels were profiled.\n",
            "            Type  Time(%)      Time     Calls       Avg       Min       Max  Name\n",
            "      API calls:   99.86%  111.61ms         3  37.202ms     780ns  111.60ms  cudaDeviceGetLimit\n",
            "                    0.11%  120.35us       101  1.1910us     135ns  50.351us  cuDeviceGetAttribute\n",
            "                    0.02%  25.205us         1  25.205us  25.205us  25.205us  cuDeviceGetName\n",
            "                    0.01%  7.0620us         1  7.0620us  7.0620us  7.0620us  cuDeviceGetPCIBusId\n",
            "                    0.00%  2.0930us         3     697ns     216ns  1.6050us  cuDeviceGetCount\n",
            "                    0.00%     975ns         2     487ns     267ns     708ns  cuDeviceGet\n",
            "                    0.00%     463ns         1     463ns     463ns     463ns  cuDeviceTotalMem\n",
            "                    0.00%     444ns         1     444ns     444ns     444ns  cuModuleGetLoadingMode\n",
            "                    0.00%     207ns         1     207ns     207ns     207ns  cuDeviceGetUuid\n"
          ]
        }
      ]
    },
    {
      "cell_type": "code",
      "source": [
        "#!grep '404' pre.log\n",
        "#!nvcc --cubin -arch sm_75 /tmp/tmp91fglzn7/kernel.cu\n",
        "!cd cuda && git pull\n",
        "!cd cuda/poc && make\n"
      ],
      "metadata": {
        "id": "JrrVbE8jzlUE",
        "outputId": "704de08a-0311-4a5a-b3e6-8fc6cdfa2e6b",
        "colab": {
          "base_uri": "https://localhost:8080/"
        }
      },
      "execution_count": 82,
      "outputs": [
        {
          "output_type": "stream",
          "name": "stdout",
          "text": [
            "Already up to date.\n",
            "nvcc -ptx -o kernel.ptx kernel.cu\n",
            "python gpu.py\n",
            "shape: (1141457,) 1141457 |S44\n",
            "[b'::1-200' b'::1-404' b'::1-200' ... b'180.163.28.55-200'\n",
            " b'180.163.28.55-200' b'180.163.28.55-200'] <memory at 0x7fc40795e340>\n",
            "Traceback (most recent call last):\n",
            "  File \"/content/cuda/poc/gpu.py\", line 31, in <module>\n",
            "    pycuda.cuCtxGetLimit\n",
            "AttributeError: module 'pycuda' has no attribute 'cuCtxGetLimit'\n",
            "make: *** [Makefile:3: all] Error 1\n"
          ]
        }
      ]
    }
  ]
}