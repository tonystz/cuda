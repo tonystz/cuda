{
  "nbformat": 4,
  "nbformat_minor": 0,
  "metadata": {
    "colab": {
      "provenance": [],
      "include_colab_link": true
    },
    "kernelspec": {
      "name": "python3",
      "display_name": "Python 3"
    },
    "language_info": {
      "name": "python"
    },
    "accelerator": "GPU",
    "gpuClass": "standard"
  },
  "cells": [
    {
      "cell_type": "markdown",
      "metadata": {
        "id": "view-in-github",
        "colab_type": "text"
      },
      "source": [
        "<a href=\"https://colab.research.google.com/github/tonystz/cuda/blob/main/poc/gpu-test.ipynb\" target=\"_parent\"><img src=\"https://colab.research.google.com/assets/colab-badge.svg\" alt=\"Open In Colab\"/></a>"
      ]
    },
    {
      "cell_type": "markdown",
      "source": [
        "###Get code"
      ],
      "metadata": {
        "id": "-lNRdW8WQhIB"
      }
    },
    {
      "cell_type": "code",
      "execution_count": 67,
      "metadata": {
        "id": "lX8LU9gf-lup",
        "outputId": "78fe2e45-d024-4e84-b92c-0e6ff55eb772",
        "colab": {
          "base_uri": "https://localhost:8080/"
        }
      },
      "outputs": [
        {
          "output_type": "stream",
          "name": "stdout",
          "text": [
            "Cloning into 'cuda'...\n",
            "remote: Enumerating objects: 269, done.\u001b[K\n",
            "remote: Counting objects: 100% (67/67), done.\u001b[K\n",
            "remote: Compressing objects: 100% (49/49), done.\u001b[K\n",
            "remote: Total 269 (delta 45), reused 31 (delta 18), pack-reused 202\u001b[K\n",
            "Receiving objects: 100% (269/269), 266.74 KiB | 16.67 MiB/s, done.\n",
            "Resolving deltas: 100% (160/160), done.\n"
          ]
        }
      ],
      "source": [
        "!git clone https://github.com/tonystz/cuda.git"
      ]
    },
    {
      "cell_type": "code",
      "source": [
        "from google.colab import drive\n",
        "drive.mount('/content/drive')"
      ],
      "metadata": {
        "id": "NJBjpKAyt7-z",
        "outputId": "d3909f96-4204-458b-c5d3-34f8bbbe2380",
        "colab": {
          "base_uri": "https://localhost:8080/"
        }
      },
      "execution_count": 2,
      "outputs": [
        {
          "output_type": "stream",
          "name": "stdout",
          "text": [
            "Mounted at /content/drive\n"
          ]
        }
      ]
    },
    {
      "cell_type": "code",
      "source": [
        "!python cuda/poc/raw.py"
      ],
      "metadata": {
        "id": "TC7YFr-9GKoU",
        "outputId": "7be5ec8b-73df-488a-ea39-ca7f59403f94",
        "colab": {
          "base_uri": "https://localhost:8080/"
        }
      },
      "execution_count": 3,
      "outputs": [
        {
          "output_type": "stream",
          "name": "stdout",
          "text": [
            "use google drive raw log\n",
            "[step0]preprocess raw log: total=1153965 skip=12507 2.1870248317718506\n"
          ]
        }
      ]
    },
    {
      "cell_type": "markdown",
      "source": [
        "\n",
        "###CPU"
      ],
      "metadata": {
        "id": "75fPDr4RQkn3"
      }
    },
    {
      "cell_type": "code",
      "source": [
        "!python cuda/poc/cpu.py"
      ],
      "metadata": {
        "colab": {
          "base_uri": "https://localhost:8080/"
        },
        "id": "hDh5YFCvC01F",
        "outputId": "99ad1fcd-620d-40ce-ebb1-44b181233d63"
      },
      "execution_count": 74,
      "outputs": [
        {
          "output_type": "stream",
          "name": "stdout",
          "text": [
            "[step1]reload data: 1.3948345184326172 (1141458,) |S44 1141458 [b'::1-200' b'::1-200' b'::1-404' ... b'180.163.28.55-200'\n",
            " b'180.163.28.55-200' b'180.163.28.55-200']\n",
            "[step2]404 data filter: 0.2709083557128906 202448\n",
            "[step3]check result: 0.08068561553955078 ['216.244.66.200', '217.174.192.132', '66.249.79.234', '66.249.79.238', '66.249.79.236', '23.96.16.211', '47.101.154.149', '47.101.149.21', '38.54.24.118']\n"
          ]
        }
      ]
    },
    {
      "cell_type": "code",
      "source": [
        "!grep '23.96.16.211' pre.log|grep 404 -c"
      ],
      "metadata": {
        "colab": {
          "base_uri": "https://localhost:8080/"
        },
        "id": "-tpqN_sR86-f",
        "outputId": "72d8263e-8a55-4d62-ddae-6527112ee9fb"
      },
      "execution_count": null,
      "outputs": [
        {
          "output_type": "stream",
          "name": "stdout",
          "text": [
            "1188\n"
          ]
        }
      ]
    },
    {
      "cell_type": "markdown",
      "source": [
        "###GPU initialize"
      ],
      "metadata": {
        "id": "C_UrI7hBQ9xH"
      }
    },
    {
      "cell_type": "code",
      "source": [
        "!pip install pycuda # install cuda\n",
        "import pycuda.driver as cuda\n",
        "import pycuda.autoinit\n",
        "from pycuda.compiler import SourceModule\n",
        "import numpy as np"
      ],
      "metadata": {
        "id": "EVRCQDNWG4P0"
      },
      "execution_count": null,
      "outputs": []
    },
    {
      "cell_type": "markdown",
      "source": [
        "###GPU"
      ],
      "metadata": {
        "id": "-Z7WmoqHRKXd"
      }
    },
    {
      "cell_type": "code",
      "source": [
        "!rm -rf cuda\n",
        "!cd cuda && git pull\n",
        "!git clone https://github.com/tonystz/cuda.git\n",
        "!cd cuda/poc && make"
      ],
      "metadata": {
        "id": "PYYwKmNL2wV4"
      },
      "execution_count": null,
      "outputs": []
    },
    {
      "cell_type": "code",
      "source": [
        "#!grep '404' pre.log\n",
        "#!nvcc --cubin -arch sm_75 /tmp/tmp91fglzn7/kernel.cu\n",
        "!cd cuda/poc && python gpu.py"
      ],
      "metadata": {
        "id": "YCcZUuNBprpE",
        "outputId": "25765799-9242-4f6a-ed22-1c48928c59b5",
        "colab": {
          "base_uri": "https://localhost:8080/"
        }
      },
      "execution_count": 84,
      "outputs": [
        {
          "output_type": "stream",
          "name": "stdout",
          "text": [
            "[step1]reload data: 1.3804419040679932 (1141458,) |S44 1141458 [b'::1-200' b'::1-200' b'::1-404' ... b'180.163.28.55-200'\n",
            " b'180.163.28.55-200' b'180.163.28.55-200']\n",
            "8388608\n",
            "62914560\n",
            "shape: (1141457,) 1141457 |S44\n",
            "[b'::1-200' b'::1-404' b'::1-200' ... b'180.163.28.55-200'\n",
            " b'180.163.28.55-200' b'180.163.28.55-200'] <memory at 0x7f6e00b5e340>\n",
            "[step2]GPU filter: 0.2570784091949463 (1141457,) |S44 1141457 [b'::1#1' b'113.116.36.60#4' b'' ... b'' b'' b'']\n",
            "[step3]summary GPU: 4.76837158203125e-07 ['216.244.66.200', '217.174.192.132', '66.249.79.234', '66.249.79.238', '66.249.79.236', '23.96.16.211', '47.101.154.149', '47.101.149.21', '38.54.24.118']\n"
          ]
        }
      ]
    },
    {
      "cell_type": "markdown",
      "source": [
        "### data clean"
      ],
      "metadata": {
        "id": "EQqcEHj-WUQF"
      }
    },
    {
      "cell_type": "code",
      "source": [
        "a=np.load('/content/drive/MyDrive/pre.npy')\n",
        "import pandas as pd\n",
        "import numpy as np\n",
        "p=pd.DataFrame(a)\n",
        "p.replace(b'', np.nan, inplace=True)\n",
        "n=p.dropna().to_numpy(dtype=np.string_).flatten()\n",
        "print(n, n.shape)\n",
        "\n",
        "#reshape with padding if there are not enough elements\n",
        "r, c = 1024, 138\n",
        "np.pad(n, (0, r*c - n.size), \n",
        "       mode='constant', constant_values='0.0.0.0:0').reshape(r,c)"
      ],
      "metadata": {
        "id": "nmD2j6FDL_tB",
        "outputId": "a4432be8-f1c1-4c48-da0d-ee0007fc4f64",
        "colab": {
          "base_uri": "https://localhost:8080/"
        }
      },
      "execution_count": 18,
      "outputs": [
        {
          "output_type": "stream",
          "name": "stdout",
          "text": [
            "[b'::1#1' b'113.116.36.60#12' b'66.240.219.146#3' ... b'49.7.21.99#1'\n",
            " b'49.7.20.28#2' b'82.157.8.248#1'] (141067,)\n"
          ]
        },
        {
          "output_type": "execute_result",
          "data": {
            "text/plain": [
              "array([[b'::1#1', b'113.116.36.60#12', b'66.240.219.146#3', ...,\n",
              "        b'114.119.135.224#1', b'110.249.201.140#1', b'93.123.158.33#1'],\n",
              "       [b'176.107.188.172#1', b'66.249.65.238#2', b'75.4.195.166#3', ...,\n",
              "        b'45.143.144.187#1', b'222.186.46.200#1', b'110.249.202.46#1'],\n",
              "       [b'115.218.184.105#1', b'119.123.73.225#1', b'86.98.88.57#6', ...,\n",
              "        b'207.46.13.160#1', b'13.229.89.192#9', b'51.222.253.18#1'],\n",
              "       ...,\n",
              "       [b'110.249.202.105#1', b'217.174.192.132#13', b'92.118.39.82#1',\n",
              "        ..., b'112.195.153.228#1', b'140.250.153.55#1',\n",
              "        b'27.158.124.121#1'],\n",
              "       [b'119.109.82.120#1', b'115.208.46.83#1', b'103.230.15.181#2',\n",
              "        ..., b'0.0.0.0:0', b'0.0.0.0:0', b'0.0.0.0:0'],\n",
              "       [b'0.0.0.0:0', b'0.0.0.0:0', b'0.0.0.0:0', ..., b'0.0.0.0:0',\n",
              "        b'0.0.0.0:0', b'0.0.0.0:0']], dtype='|S19')"
            ]
          },
          "metadata": {},
          "execution_count": 18
        }
      ]
    },
    {
      "cell_type": "markdown",
      "source": [
        "## Try Python buffer interface(memoryview)\n"
      ],
      "metadata": {
        "id": "2dkHfWAIgQsl"
      }
    },
    {
      "cell_type": "code",
      "source": [
        "%%writefile buff.py\n",
        "import pycuda.driver as cuda\n",
        "import pycuda.autoinit  # noqa\n",
        "from pycuda.compiler import SourceModule\n",
        "import numpy as np\n",
        "\n",
        "\n",
        "mod = SourceModule(\"\"\"\n",
        "    __global__ void bufferInterface(char *a, int len)\n",
        "    {\n",
        "      int idx = threadIdx.x + threadIdx.y*4;\n",
        "      printf(\"[%d]From raw buffer interface:%s  len=%d\\\\n\",idx,a,len);\n",
        "      for(int i=0;i<len;i++){\n",
        "        if(a[i]==0){\n",
        "          printf(\"[%d]From raw buffer interface:%s \\\\n\",idx,a+i+1);\n",
        "        }\n",
        "        //printf(\"[%d]From raw buffer interface:%s \\\\n\",idx,a);\n",
        "      }\n",
        "    }\n",
        "    \"\"\")\n",
        "\n",
        "bufferInterface = mod.get_function(\"bufferInterface\")\n",
        "mv=memoryview(b'hellworld3\\0this is a nother string')\n",
        "mv_gpu=cuda.to_device(mv)\n",
        "bufferInterface(mv_gpu, np.int32(mv.shape[0]),block=(2, 1, 1), grid=(1, 1), shared=0)"
      ],
      "metadata": {
        "colab": {
          "base_uri": "https://localhost:8080/"
        },
        "id": "kFHQczG4qyfu",
        "outputId": "70f12cd7-7ea7-45e8-d9b4-b92483287d05"
      },
      "execution_count": null,
      "outputs": [
        {
          "output_type": "stream",
          "name": "stdout",
          "text": [
            "Overwriting buff.py\n"
          ]
        }
      ]
    },
    {
      "cell_type": "code",
      "source": [
        "!python buff.py"
      ],
      "metadata": {
        "colab": {
          "base_uri": "https://localhost:8080/"
        },
        "id": "okJoo3SSrrBL",
        "outputId": "40423d67-d7e5-4bd0-a4fd-7f7806aa1ddc"
      },
      "execution_count": null,
      "outputs": [
        {
          "output_type": "stream",
          "name": "stdout",
          "text": [
            "[0]From raw buffer interface:hellworld3  len=34\n",
            "[1]From raw buffer interface:hellworld3  len=34\n",
            "[0]From raw buffer interface:this is a nother string \n",
            "[1]From raw buffer interface:this is a nother string \n"
          ]
        }
      ]
    },
    {
      "cell_type": "markdown",
      "source": [
        "##Try cuda-python  usage"
      ],
      "metadata": {
        "id": "Ho_jxTJIoe7D"
      }
    },
    {
      "cell_type": "code",
      "source": [
        "!pip install cuda-python"
      ],
      "metadata": {
        "id": "Sdj7YwVelHSx"
      },
      "execution_count": null,
      "outputs": []
    },
    {
      "cell_type": "code",
      "source": [
        "from cuda import cuda\n",
        "\n",
        "status, pvalue=cuda.cuCtxGetLimit(cuda.CUlimit.CU_LIMIT_MALLOC_HEAP_SIZE)\n",
        "print(\"heap size:\",status,pvalue)\n",
        "\n",
        "cuda.cuCtxSetLimit(cuda.CUlimit.CU_LIMIT_MALLOC_HEAP_SIZE,20*1024*1024)\n",
        "\n",
        "print(\"heap size:\",cuda.cuCtxGetLimit(cuda.CUlimit.CU_LIMIT_MALLOC_HEAP_SIZE))"
      ],
      "metadata": {
        "id": "tbpNy2nLRUSl",
        "outputId": "ceeb9bdb-ff00-44ba-b65b-b416389624bb",
        "colab": {
          "base_uri": "https://localhost:8080/"
        }
      },
      "execution_count": null,
      "outputs": [
        {
          "output_type": "stream",
          "name": "stdout",
          "text": [
            "heap size: CUresult.CUDA_SUCCESS 20971520\n",
            "heap size: (<CUresult.CUDA_SUCCESS: 0>, 20971520)\n"
          ]
        }
      ]
    },
    {
      "cell_type": "markdown",
      "source": [
        "## Try cuda c usage"
      ],
      "metadata": {
        "id": "c5xGvWEpok8r"
      }
    },
    {
      "cell_type": "code",
      "source": [
        "%%writefile a.cu\n",
        "#include <cuda.h>\n",
        "#include <stdio.h>\n",
        "\n",
        "int main(int argc, char const *argv[]) {\n",
        "    // cuda initialization via cudaMalloc\n",
        "    size_t limit = 0;\n",
        "\n",
        "    cudaDeviceGetLimit(&limit, cudaLimitMallocHeapSize);\n",
        "    printf(\"cudaLimitMallocHeapSize: %u\\n\", (unsigned)limit);\n",
        "    cudaDeviceGetLimit(&limit, cudaLimitPrintfFifoSize);\n",
        "    printf(\"cudaLimitPrintfFifoSize: %u\\n\", (unsigned)limit);\n",
        "    cudaDeviceGetLimit(&limit, cudaLimitMallocHeapSize);\n",
        "    printf(\"cudaLimitMallocHeapSize: %u\\n\", (unsigned)limit);\n",
        "\n",
        "}"
      ],
      "metadata": {
        "id": "p-K2R-jlWPuB",
        "outputId": "c6ecdf14-c94c-42b6-f214-f80c57cf326e",
        "colab": {
          "base_uri": "https://localhost:8080/"
        }
      },
      "execution_count": null,
      "outputs": [
        {
          "output_type": "stream",
          "name": "stdout",
          "text": [
            "Overwriting a.cu\n"
          ]
        }
      ]
    },
    {
      "cell_type": "code",
      "source": [
        "!nvcc a.cu -o query\n",
        "!nvprof ./query"
      ],
      "metadata": {
        "id": "jjLWGlY9W6ex",
        "outputId": "4b1543c9-205c-414a-e20d-9e7ae9149034",
        "colab": {
          "base_uri": "https://localhost:8080/"
        }
      },
      "execution_count": null,
      "outputs": [
        {
          "output_type": "stream",
          "name": "stdout",
          "text": [
            "==45382== NVPROF is profiling process 45382, command: ./query\n",
            "cudaLimitMallocHeapSize: 8388608\n",
            "cudaLimitPrintfFifoSize: 1310720\n",
            "cudaLimitMallocHeapSize: 8388608\n",
            "==45382== Profiling application: ./query\n",
            "==45382== Profiling result:\n",
            "No kernels were profiled.\n",
            "            Type  Time(%)      Time     Calls       Avg       Min       Max  Name\n",
            "      API calls:   99.86%  111.61ms         3  37.202ms     780ns  111.60ms  cudaDeviceGetLimit\n",
            "                    0.11%  120.35us       101  1.1910us     135ns  50.351us  cuDeviceGetAttribute\n",
            "                    0.02%  25.205us         1  25.205us  25.205us  25.205us  cuDeviceGetName\n",
            "                    0.01%  7.0620us         1  7.0620us  7.0620us  7.0620us  cuDeviceGetPCIBusId\n",
            "                    0.00%  2.0930us         3     697ns     216ns  1.6050us  cuDeviceGetCount\n",
            "                    0.00%     975ns         2     487ns     267ns     708ns  cuDeviceGet\n",
            "                    0.00%     463ns         1     463ns     463ns     463ns  cuDeviceTotalMem\n",
            "                    0.00%     444ns         1     444ns     444ns     444ns  cuModuleGetLoadingMode\n",
            "                    0.00%     207ns         1     207ns     207ns     207ns  cuDeviceGetUuid\n"
          ]
        }
      ]
    }
  ]
}