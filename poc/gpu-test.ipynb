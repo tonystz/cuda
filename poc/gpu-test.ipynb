{
  "nbformat": 4,
  "nbformat_minor": 0,
  "metadata": {
    "colab": {
      "provenance": [],
      "include_colab_link": true
    },
    "kernelspec": {
      "name": "python3",
      "display_name": "Python 3"
    },
    "language_info": {
      "name": "python"
    },
    "accelerator": "GPU",
    "gpuClass": "standard"
  },
  "cells": [
    {
      "cell_type": "markdown",
      "metadata": {
        "id": "view-in-github",
        "colab_type": "text"
      },
      "source": [
        "<a href=\"https://colab.research.google.com/github/tonystz/cuda/blob/main/poc/gpu-test.ipynb\" target=\"_parent\"><img src=\"https://colab.research.google.com/assets/colab-badge.svg\" alt=\"Open In Colab\"/></a>"
      ]
    },
    {
      "cell_type": "markdown",
      "source": [
        "###Get code"
      ],
      "metadata": {
        "id": "-lNRdW8WQhIB"
      }
    },
    {
      "cell_type": "code",
      "execution_count": null,
      "metadata": {
        "id": "lX8LU9gf-lup"
      },
      "outputs": [],
      "source": [
        "!git clone https://github.com/tonystz/cuda.git"
      ]
    },
    {
      "cell_type": "code",
      "source": [
        "from google.colab import drive\n",
        "drive.mount('/content/drive')"
      ],
      "metadata": {
        "id": "NJBjpKAyt7-z"
      },
      "execution_count": null,
      "outputs": []
    },
    {
      "cell_type": "code",
      "source": [
        "!python cuda/poc/raw.py"
      ],
      "metadata": {
        "id": "TC7YFr-9GKoU",
        "outputId": "5a08f840-0b5d-4f02-c26c-d3fd64e15f28",
        "colab": {
          "base_uri": "https://localhost:8080/"
        }
      },
      "execution_count": 2,
      "outputs": [
        {
          "output_type": "stream",
          "name": "stdout",
          "text": [
            "use sample raw log\n",
            "[step0]preprocess raw log: total=80 skip=0 0.00023818016052246094\n"
          ]
        }
      ]
    },
    {
      "cell_type": "markdown",
      "source": [
        "\n",
        "###CPU"
      ],
      "metadata": {
        "id": "75fPDr4RQkn3"
      }
    },
    {
      "cell_type": "code",
      "source": [
        "!python cuda/poc/cpu.py"
      ],
      "metadata": {
        "colab": {
          "base_uri": "https://localhost:8080/"
        },
        "id": "hDh5YFCvC01F",
        "outputId": "febc8470-63e4-44a2-f2c2-e52be0eab478"
      },
      "execution_count": null,
      "outputs": [
        {
          "output_type": "stream",
          "name": "stdout",
          "text": [
            "[step1]reload data: 0.0030639171600341797 (80,) |S20 80 [b'::1-200' b'::1-200' b'::1-404' b'::1-200' b'183.212.185.122-404'\n",
            " b'183.212.185.121-200' b'183.212.185.121-404' b'183.212.185.122-404'\n",
            " b'183.212.185.121-200' b'183.212.185.122-200' b'183.212.185.121-200'\n",
            " b'183.212.185.121-200' b'183.212.185.121-200' b'183.212.185.121-200'\n",
            " b'183.212.185.121-200' b'183.212.185.121-200' b'183.212.185.121-200'\n",
            " b'183.212.185.121-200' b'183.212.185.121-200' b'183.212.185.121-200'\n",
            " b'183.212.185.121-200' b'183.212.185.121-200' b'183.212.185.121-200'\n",
            " b'183.212.185.121-200' b'183.212.185.121-200' b'183.212.185.121-200'\n",
            " b'183.212.185.121-200' b'183.212.185.121-200' b'183.212.185.121-200'\n",
            " b'183.212.185.121-200' b'183.212.185.121-200' b'183.212.185.121-200'\n",
            " b'183.212.185.121-200' b'183.212.185.121-200' b'183.212.185.121-200'\n",
            " b'183.212.185.121-304' b'183.212.185.121-304' b'183.212.185.121-304'\n",
            " b'183.212.185.121-304' b'183.212.185.121-304' b'183.212.185.121-304'\n",
            " b'183.212.185.121-200' b'183.212.185.121-200' b'183.212.185.121-200'\n",
            " b'183.212.185.121-200' b'183.212.185.121-200' b'183.212.185.121-200'\n",
            " b'183.212.185.121-200' b'183.212.185.121-200' b'183.212.185.121-200'\n",
            " b'183.212.185.121-200' b'183.212.185.121-200' b'183.212.185.121-200'\n",
            " b'183.212.185.121-200' b'183.212.185.121-200' b'183.212.185.121-200'\n",
            " b'183.212.185.121-200' b'183.212.185.121-200' b'183.212.185.121-304'\n",
            " b'183.212.185.121-304' b'183.212.185.121-304' b'183.212.185.121-304'\n",
            " b'183.212.185.121-304' b'183.212.185.121-304' b'183.212.185.121-304'\n",
            " b'183.212.185.121-304' b'183.212.185.121-200' b'183.212.185.121-200'\n",
            " b'183.212.185.121-200' b'183.212.185.121-200' b'183.212.185.121-200'\n",
            " b'183.212.185.121-304' b'183.212.185.121-304' b'183.212.185.121-304'\n",
            " b'183.212.185.121-304' b'183.212.185.121-304' b'183.212.185.121-200'\n",
            " b'183.212.185.121-200' b'183.212.185.121-304' b'183.212.185.121-304']\n",
            "[step2]404 data filter: 4.458427429199219e-05 4\n",
            "[step3]check result: 7.152557373046875e-06 ['::1', '183.212.185.122', '183.212.185.121']\n"
          ]
        }
      ]
    },
    {
      "cell_type": "markdown",
      "source": [
        "###GPU initialize"
      ],
      "metadata": {
        "id": "C_UrI7hBQ9xH"
      }
    },
    {
      "cell_type": "code",
      "source": [
        "!pip install pycuda # install cuda\n",
        "import pycuda.driver as cuda\n",
        "import pycuda.autoinit\n",
        "from pycuda.compiler import SourceModule\n",
        "import numpy as np"
      ],
      "metadata": {
        "id": "EVRCQDNWG4P0"
      },
      "execution_count": null,
      "outputs": []
    },
    {
      "cell_type": "markdown",
      "source": [
        "###GPU"
      ],
      "metadata": {
        "id": "-Z7WmoqHRKXd"
      }
    },
    {
      "cell_type": "code",
      "source": [
        "a=np.loadtxt('pre.log', delimiter=' ', dtype=np.string_,converters={0:lambda v:v+b'\\0'})\n",
        "print(a.shape,a.size,a)"
      ],
      "metadata": {
        "id": "sVM0LpJrRImq",
        "outputId": "f2bf684b-d0d7-4310-ab92-3b8915c70ad9",
        "colab": {
          "base_uri": "https://localhost:8080/"
        }
      },
      "execution_count": null,
      "outputs": [
        {
          "output_type": "stream",
          "name": "stdout",
          "text": [
            "(80,) 80 [b'::1-200' b'::1-200' b'::1-404' b'::1-200' b'183.212.185.122-404'\n",
            " b'183.212.185.121-200' b'183.212.185.121-404' b'183.212.185.122-404'\n",
            " b'183.212.185.121-200' b'183.212.185.122-200' b'183.212.185.121-200'\n",
            " b'183.212.185.121-200' b'183.212.185.121-200' b'183.212.185.121-200'\n",
            " b'183.212.185.121-200' b'183.212.185.121-200' b'183.212.185.121-200'\n",
            " b'183.212.185.121-200' b'183.212.185.121-200' b'183.212.185.121-200'\n",
            " b'183.212.185.121-200' b'183.212.185.121-200' b'183.212.185.121-200'\n",
            " b'183.212.185.121-200' b'183.212.185.121-200' b'183.212.185.121-200'\n",
            " b'183.212.185.121-200' b'183.212.185.121-200' b'183.212.185.121-200'\n",
            " b'183.212.185.121-200' b'183.212.185.121-200' b'183.212.185.121-200'\n",
            " b'183.212.185.121-200' b'183.212.185.121-200' b'183.212.185.121-200'\n",
            " b'183.212.185.121-304' b'183.212.185.121-304' b'183.212.185.121-304'\n",
            " b'183.212.185.121-304' b'183.212.185.121-304' b'183.212.185.121-304'\n",
            " b'183.212.185.121-200' b'183.212.185.121-200' b'183.212.185.121-200'\n",
            " b'183.212.185.121-200' b'183.212.185.121-200' b'183.212.185.121-200'\n",
            " b'183.212.185.121-200' b'183.212.185.121-200' b'183.212.185.121-200'\n",
            " b'183.212.185.121-200' b'183.212.185.121-200' b'183.212.185.121-200'\n",
            " b'183.212.185.121-200' b'183.212.185.121-200' b'183.212.185.121-200'\n",
            " b'183.212.185.121-200' b'183.212.185.121-200' b'183.212.185.121-304'\n",
            " b'183.212.185.121-304' b'183.212.185.121-304' b'183.212.185.121-304'\n",
            " b'183.212.185.121-304' b'183.212.185.121-304' b'183.212.185.121-304'\n",
            " b'183.212.185.121-304' b'183.212.185.121-200' b'183.212.185.121-200'\n",
            " b'183.212.185.121-200' b'183.212.185.121-200' b'183.212.185.121-200'\n",
            " b'183.212.185.121-304' b'183.212.185.121-304' b'183.212.185.121-304'\n",
            " b'183.212.185.121-304' b'183.212.185.121-304' b'183.212.185.121-200'\n",
            " b'183.212.185.121-200' b'183.212.185.121-304' b'183.212.185.121-304']\n"
          ]
        }
      ]
    },
    {
      "cell_type": "code",
      "source": [
        "print(a[0])"
      ],
      "metadata": {
        "colab": {
          "base_uri": "https://localhost:8080/"
        },
        "id": "_WkHuaiPSn0I",
        "outputId": "66abcdfe-f14f-4fa0-c406-8d97ede9a1f6"
      },
      "execution_count": null,
      "outputs": [
        {
          "output_type": "stream",
          "name": "stdout",
          "text": [
            "b'::1-200'\n"
          ]
        }
      ]
    },
    {
      "cell_type": "code",
      "source": [
        "na=np.delete(a,0)\n",
        "na.reshape((479,2383))"
      ],
      "metadata": {
        "colab": {
          "base_uri": "https://localhost:8080/"
        },
        "id": "z7XZDCJjSRS5",
        "outputId": "12f4957f-91c3-4de0-82e4-659f89f5ed32"
      },
      "execution_count": null,
      "outputs": [
        {
          "output_type": "execute_result",
          "data": {
            "text/plain": [
              "array([[b'::1-200', b'::1-404', b'::1-200', ..., b'195.242.110.253-200',\n",
              "        b'110.249.202.11-200', b'110.249.201.69-200'],\n",
              "       [b'110.249.201.206-200', b'207.46.13.23-200',\n",
              "        b'110.249.201.14-200', ..., b'223.104.68.50-200',\n",
              "        b'223.104.68.50-200', b'223.104.68.50-200'],\n",
              "       [b'223.104.68.50-200', b'223.104.68.50-200', b'223.104.68.50-200',\n",
              "        ..., b'125.84.82.12-200', b'125.84.82.12-200',\n",
              "        b'125.84.82.12-200'],\n",
              "       ...,\n",
              "       [b'140.250.200.255-404', b'140.250.200.255-404',\n",
              "        b'52.167.144.32-200', ..., b'180.164.68.86-200',\n",
              "        b'180.164.68.86-200', b'180.164.68.86-200'],\n",
              "       [b'180.164.68.86-200', b'180.164.68.86-200', b'180.164.68.86-200',\n",
              "        ..., b'36.46.86.9-200', b'36.46.86.9-200', b'36.46.86.9-200'],\n",
              "       [b'36.46.86.9-200', b'36.46.86.9-200', b'36.46.86.9-200', ...,\n",
              "        b'180.163.28.55-200', b'180.163.28.55-200', b'180.163.28.55-200']],\n",
              "      dtype='|S44')"
            ]
          },
          "metadata": {},
          "execution_count": 13
        }
      ]
    },
    {
      "cell_type": "code",
      "source": [
        "s= np.array(['180.163.28.55-200\\0','edfg\\0','stz12345678b\\0','b1\\0','k2\\0','hellworld3\\0'], dtype=np.string_)\n",
        "\n",
        "s=s.reshape(2,3)\n",
        "print('shape:',s.shape,s.size)\n",
        "print(s,s.dtype)"
      ],
      "metadata": {
        "colab": {
          "base_uri": "https://localhost:8080/"
        },
        "id": "6ONgM-_6V0Z_",
        "outputId": "717c6b0f-4308-450e-de35-d01841585f17"
      },
      "execution_count": null,
      "outputs": [
        {
          "output_type": "stream",
          "name": "stdout",
          "text": [
            "shape: (2, 3) 6\n",
            "[[b'180.163.28.55-200' b'edfg' b'stz12345678b']\n",
            " [b'b1' b'k2' b'hellworld3']] |S18\n"
          ]
        }
      ]
    },
    {
      "cell_type": "code",
      "source": [
        "%%writefile gpu.py\n",
        "#!python \n",
        "import pycuda.driver as cuda\n",
        "import pycuda.autoinit\n",
        "from pycuda.compiler import SourceModule\n",
        "from pycuda import gpuarray\n",
        "import numpy as np\n",
        "\n",
        "mod = SourceModule(\"\"\"\n",
        "\n",
        " /*\n",
        " const int COL_NUM=2383;\n",
        " const int ROW_NUM=479;\n",
        " const int LOG_LEN=44;\n",
        " */\n",
        "  const int COL_NUM=40;\n",
        " const int ROW_NUM=2;\n",
        " const int LOG_LEN=20;\n",
        "    typedef struct{\n",
        "      char ipAddr[LOG_LEN];\n",
        "      int cnt;\n",
        "    }ST_IPAddr;\n",
        "    __device__ void mystrcpy(char *out,char *in){\n",
        "      int i=0;\n",
        "      for(i=0;in[i]!=0;i++){\n",
        "        out[i] = in[i];\n",
        "      }\n",
        "      out[i]=0;\n",
        "    }\n",
        "    __device__  int find_404_ipaddr(char*in_gpu,char outAddr[],int rowStartIndex ,int strStartIndex){\n",
        "        int index=0;\n",
        "        for(int i = 0; i<LOG_LEN; i++){\n",
        "            index = strStartIndex+i+rowStartIndex;\n",
        "            if (in_gpu[index]=='-'){\n",
        "              if (in_gpu[index+1] == '4' && in_gpu[index+2] == '0' && in_gpu[index+3] == '4'){\n",
        "                 outAddr[i]=0;\n",
        "                 return 1;\n",
        "              }\n",
        "            }\n",
        "            outAddr[i]=in_gpu[index];\n",
        "        }\n",
        "        return 0;\n",
        "    }\n",
        "   \n",
        "    __device__ int strEqua(char *s1,char *s2){\n",
        "      if((*s1==0)&&(*s2 !=0)|| (*s1 !=0 && *s2==0))return 0;\n",
        "      for(int i=0;s1[i]!=0 && s2[i] !=0;i++){\n",
        "        if (s1[i] != s2[i]){\n",
        "          return 0;\n",
        "        }\n",
        "      }\n",
        "      return 1;\n",
        "    }\n",
        "    __device__ void pushDedup(ST_IPAddr*dedup,char *ipAddr,int*dedup_cnt){\n",
        "      int c=0;\n",
        "      for(;c<COL_NUM;c++){\n",
        "        if(strEqua(dedup[c].ipAddr,ipAddr)){\n",
        "          dedup[c].cnt ++;\n",
        "          break;\n",
        "        }else{\n",
        "          if(dedup[c].ipAddr[0] == 0){\n",
        "            mystrcpy(dedup[c].ipAddr,ipAddr);\n",
        "            dedup[c].cnt = 1;\n",
        "            (*dedup_cnt)++;\n",
        "            break;\n",
        "          }\n",
        "        }\n",
        "      }\n",
        "    }\n",
        "\n",
        "    __device__ void summary(char*out_gpu){\n",
        "      int idx = threadIdx.x + blockIdx.x * blockDim.x;\n",
        "      int rowOffset=COL_NUM*LOG_LEN;\n",
        "       for(int r=0;r<ROW_NUM;r++){\n",
        "         for(int c=0;c<COL_NUM;c++){\n",
        "           if(out_gpu[r*rowOffset+c*LOG_LEN]!=0)\n",
        "           printf(\"thread[%d]offset=%d r=%d,c=%d  find:%s\\\\n\",idx,r*rowOffset+c*LOG_LEN,r,c,out_gpu+r*rowOffset+c*LOG_LEN);\n",
        "         }\n",
        "       }\n",
        "\n",
        "    }\n",
        "\n",
        "    __global__ void check_log(char*in_gpu,char* out_gpu)\n",
        "    { \n",
        "      ST_IPAddr dedup[COL_NUM];\n",
        "      int dedup_cnt=0;\n",
        "\n",
        "      int idx = threadIdx.x + blockIdx.x * blockDim.x;\n",
        "       printf(\"ST_IPAddr size: %d\\\\n\",sizeof(ST_IPAddr));\n",
        "      //printf(\"index: threadIdx.x=%d blockIdx.x=%d  blockDim.x=%d \\\\n\",threadIdx.x,blockIdx.x,blockDim.x);\n",
        "      //printf(\"thread id: [%d]  get str:%s  strlen=%d \\\\n\",idx,in_gpu+LOG_LEN+1, LOG_LEN);\n",
        "\n",
        "      // string len is 6\n",
        "      char sub[LOG_LEN+1];\n",
        "      int strStartIndex=0;//string start locaion\n",
        "      int rowOffset=COL_NUM*LOG_LEN;\n",
        "      if(idx > ROW_NUM){\n",
        "        printf(\"[ERROR]idx=%d, rowCnt=%d, we want one thread process all one rows'data .please tune\",idx,ROW_NUM);\n",
        "      }\n",
        "      \n",
        "      int rowStartIndex=rowOffset*idx;\n",
        "      out_gpu[rowStartIndex]=0;\n",
        "      //int all_find_iadd_in_row=0;\n",
        "      for(int c=0;c<COL_NUM;c++){\n",
        "        strStartIndex=c*LOG_LEN;\n",
        "        if (find_404_ipaddr(in_gpu,sub,rowStartIndex,strStartIndex)){\n",
        "          //printf(\"thread[%d] rowStartIndex=%d, substring:%s strStartIndex %d\\\\n\",idx,rowStartIndex,sub,strStartIndex);\n",
        "          \n",
        "          //copy 404 to out_gpu\n",
        "          //mystrcpy(out_gpu+rowStartIndex+dedup_cnt*LOG_LEN,sub);\n",
        "          //mystrcpy(dedup[c].ipAddr,sub);\n",
        "          pushDedup(dedup,sub,&dedup_cnt);\n",
        "          printf(\"rowStartIndex=%d,c=%d  sub=%s add=%d dedup_cnt=%d \\\\n\",rowStartIndex,c,sub,dedup[c].cnt,dedup_cnt);\n",
        "          \n",
        "        }\n",
        "      }\n",
        "\n",
        "      //int rowOffsetForInt=COL_NUM*4;\n",
        "      __syncthreads();\n",
        "      for(int c=0;c<dedup_cnt;c++){\n",
        "        \n",
        "         mystrcpy(out_gpu+rowStartIndex+LOG_LEN*c,dedup[c].ipAddr);\n",
        "         //memcpy(out_int_gpu+idx*rowOffsetForInt+c*4, &dedup[c], sizeof(ST_IPAddr));\n",
        "         //out_int_gpu[idx*rowOffsetForInt+c*4]=dedup[c].cnt;\n",
        "         printf(\"thread[%d] rowStartIndex[%d][%d] addr:%s = %d\\\\n\",idx,rowStartIndex,c,dedup[c].ipAddr,dedup[c].cnt);\n",
        "      }\n",
        "      //printf(\"thread[%d] addrCnt:%d\\\\n\",idx,dedup_cnt);\n",
        "      __syncthreads();\n",
        "\n",
        "      if(idx ==0 )summary(out_gpu);\n",
        "    }\n",
        "    \"\"\")\n",
        "\n",
        "check_log = mod.get_function(\"check_log\")\n",
        "\n",
        "a=np.loadtxt('pre.log', delimiter=' ', dtype=np.string_,converters={0:lambda v:v+b'\\0'})\n",
        "\n",
        "'''\n",
        "na=np.delete(a,0)\n",
        "NUM_ROW=40\n",
        "NUM_COL=2383\n",
        "'''\n",
        "na=a\n",
        "NUM_ROW=2\n",
        "NUM_COL=40\n",
        "na.reshape((NUM_ROW,NUM_COL))\n",
        "print('shape:',na.shape,na.size,na.dtype)\n",
        "print(na,na.data)\n",
        "\n",
        "na_gpu = gpuarray.to_gpu(na)\n",
        "out_gpu = gpuarray.empty_like(na_gpu)\n",
        "check_log(na_gpu,out_gpu,block=(NUM_ROW,1,1),grid=(1,1,1))\n",
        "\n",
        "import sys\n",
        "np.set_printoptions(threshold=sys.maxsize)\n",
        "print('out_gpu:',out_gpu.get())\n"
      ],
      "metadata": {
        "colab": {
          "base_uri": "https://localhost:8080/"
        },
        "id": "099wsKjFT1lf",
        "outputId": "f6a420f2-ac72-4bda-a1e6-e18c45c5bdec"
      },
      "execution_count": 58,
      "outputs": [
        {
          "output_type": "stream",
          "name": "stdout",
          "text": [
            "Overwriting gpu.py\n"
          ]
        }
      ]
    },
    {
      "cell_type": "code",
      "source": [
        "!python gpu.py"
      ],
      "metadata": {
        "colab": {
          "base_uri": "https://localhost:8080/"
        },
        "id": "LujY7PbuWnO0",
        "outputId": "f5ac5b84-2152-48dc-8896-5e4cc23e76d2"
      },
      "execution_count": 59,
      "outputs": [
        {
          "output_type": "stream",
          "name": "stdout",
          "text": [
            "shape: (80,) 80 |S20\n",
            "[b'::1-200' b'::1-200' b'::1-404' b'::1-200' b'183.212.185.122-404'\n",
            " b'183.212.185.121-200' b'183.212.185.121-404' b'183.212.185.122-404'\n",
            " b'183.212.185.121-200' b'183.212.185.122-200' b'183.212.185.121-200'\n",
            " b'183.212.185.121-200' b'183.212.185.121-200' b'183.212.185.121-200'\n",
            " b'183.212.185.121-200' b'183.212.185.121-200' b'183.212.185.121-200'\n",
            " b'183.212.185.121-200' b'183.212.185.121-200' b'183.212.185.121-200'\n",
            " b'183.212.185.121-200' b'183.212.185.121-200' b'183.212.185.121-200'\n",
            " b'183.212.185.121-200' b'183.212.185.121-200' b'183.212.185.121-200'\n",
            " b'183.212.185.121-200' b'183.212.185.121-200' b'183.212.185.121-200'\n",
            " b'183.212.185.121-200' b'183.212.185.121-200' b'183.212.185.121-200'\n",
            " b'183.212.185.121-200' b'183.212.185.121-200' b'183.212.185.121-200'\n",
            " b'183.212.185.121-304' b'183.212.185.121-304' b'183.212.185.121-304'\n",
            " b'183.212.185.121-304' b'183.212.185.121-304' b'183.212.185.121-304'\n",
            " b'183.212.185.121-200' b'183.212.185.121-200' b'183.212.185.121-200'\n",
            " b'183.212.185.121-200' b'183.212.185.121-200' b'183.212.185.121-200'\n",
            " b'183.212.185.121-200' b'183.212.185.121-200' b'183.212.185.121-200'\n",
            " b'183.212.185.121-200' b'183.212.185.121-200' b'183.212.185.121-200'\n",
            " b'183.212.185.121-200' b'183.212.185.121-200' b'183.212.185.121-200'\n",
            " b'183.212.185.121-200' b'183.212.185.121-200' b'183.212.185.121-304'\n",
            " b'183.212.185.121-304' b'183.212.185.121-304' b'183.212.185.121-304'\n",
            " b'183.212.185.121-304' b'183.212.185.121-304' b'183.212.185.121-304'\n",
            " b'183.212.185.121-304' b'183.212.185.121-200' b'183.212.185.121-200'\n",
            " b'183.212.185.121-200' b'183.212.185.121-200' b'183.212.185.121-200'\n",
            " b'183.212.185.121-304' b'183.212.185.121-304' b'183.212.185.121-304'\n",
            " b'183.212.185.121-304' b'183.212.185.121-304' b'183.212.185.121-200'\n",
            " b'183.212.185.122-200' b'183.212.185.121-404' b'183.212.185.129-404'] <memory at 0x7fc534f3c7c0>\n",
            "ST_IPAddr size: 24\n",
            "ST_IPAddr size: 24\n",
            "rowStartIndex=0,c=2  sub=::1 add=0 dedup_cnt=1 \n",
            "rowStartIndex=0,c=4  sub=183.212.185.122 add=0 dedup_cnt=2 \n",
            "rowStartIndex=0,c=6  sub=183.212.185.121 add=0 dedup_cnt=3 \n",
            "rowStartIndex=0,c=7  sub=183.212.185.122 add=0 dedup_cnt=3 \n",
            "rowStartIndex=800,c=38  sub=183.212.185.121 add=0 dedup_cnt=1 \n",
            "rowStartIndex=800,c=39  sub=183.212.185.129 add=0 dedup_cnt=2 \n",
            "thread[0] rowStartIndex[0][0] addr:::1 = 1\n",
            "thread[1] rowStartIndex[800][0] addr:183.212.185.121 = 1\n",
            "thread[0] rowStartIndex[0][1] addr:183.212.185.122 = 2\n",
            "thread[1] rowStartIndex[800][1] addr:183.212.185.129 = 1\n",
            "thread[0] rowStartIndex[0][2] addr:183.212.185.121 = 1\n",
            "thread[0]offset=0 r=0,c=0  find:::1\n",
            "thread[0]offset=20 r=0,c=1  find:183.212.185.122\n",
            "thread[0]offset=40 r=0,c=2  find:183.212.185.121\n",
            "thread[0]offset=800 r=1,c=0  find:183.212.185.121\n",
            "thread[0]offset=820 r=1,c=1  find:183.212.185.129\n",
            "out_gpu: [b'::1' b'183.212.185.122' b'183.212.185.121' b'' b'' b'' b'' b'' b'' b''\n",
            " b'' b'' b'' b'' b'' b'' b'' b'' b'' b'' b'' b'' b'' b'' b'' b'' b'' b''\n",
            " b'' b'' b'' b'' b'' b'' b'' b'' b'' b'' b'' b'' b'183.212.185.121'\n",
            " b'183.212.185.129' b'' b'' b'' b'' b'' b'' b'' b'' b'' b'' b'' b'' b''\n",
            " b'' b'' b'' b'' b'' b'' b'' b'' b'' b'' b'' b'' b'' b'' b'' b'' b'' b''\n",
            " b'' b'' b'' b'' b'' b'' b'']\n"
          ]
        }
      ]
    },
    {
      "cell_type": "code",
      "source": [
        "!grep '404' pre.log\n",
        "!nvcc --cubin -arch sm_75 /tmp/tmposw2t1c9/kernel.cu\n",
        "#!ls -l\n"
      ],
      "metadata": {
        "id": "JrrVbE8jzlUE"
      },
      "execution_count": null,
      "outputs": []
    }
  ]
}