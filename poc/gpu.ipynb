{
  "nbformat": 4,
  "nbformat_minor": 0,
  "metadata": {
    "colab": {
      "provenance": [],
      "include_colab_link": true
    },
    "kernelspec": {
      "name": "python3",
      "display_name": "Python 3"
    },
    "language_info": {
      "name": "python"
    },
    "accelerator": "GPU",
    "gpuClass": "standard"
  },
  "cells": [
    {
      "cell_type": "markdown",
      "metadata": {
        "id": "view-in-github",
        "colab_type": "text"
      },
      "source": [
        "<a href=\"https://colab.research.google.com/github/tonystz/cuda/blob/main/poc/gpu.ipynb\" target=\"_parent\"><img src=\"https://colab.research.google.com/assets/colab-badge.svg\" alt=\"Open In Colab\"/></a>"
      ]
    },
    {
      "cell_type": "markdown",
      "source": [
        "###Get code"
      ],
      "metadata": {
        "id": "-lNRdW8WQhIB"
      }
    },
    {
      "cell_type": "code",
      "execution_count": null,
      "metadata": {
        "id": "lX8LU9gf-lup"
      },
      "outputs": [],
      "source": [
        "!git clone https://github.com/tonystz/cuda.git"
      ]
    },
    {
      "cell_type": "code",
      "source": [
        "from google.colab import drive\n",
        "drive.mount('/content/drive')"
      ],
      "metadata": {
        "id": "NJBjpKAyt7-z"
      },
      "execution_count": null,
      "outputs": []
    },
    {
      "cell_type": "code",
      "source": [
        "!python cuda/poc/raw.py"
      ],
      "metadata": {
        "id": "TC7YFr-9GKoU"
      },
      "execution_count": null,
      "outputs": []
    },
    {
      "cell_type": "markdown",
      "source": [
        "\n",
        "###CPU"
      ],
      "metadata": {
        "id": "75fPDr4RQkn3"
      }
    },
    {
      "cell_type": "code",
      "source": [
        "!python cuda/poc/cpu.py"
      ],
      "metadata": {
        "colab": {
          "base_uri": "https://localhost:8080/"
        },
        "id": "hDh5YFCvC01F",
        "outputId": "25f37a43-ffcf-4956-8d08-4b1ea3edd788"
      },
      "execution_count": 11,
      "outputs": [
        {
          "output_type": "stream",
          "name": "stdout",
          "text": [
            "[step1]reload data: 1.4249060153961182 (1141458,) |S44 1141458 [b'::1-200' b'::1-200' b'::1-404' ... b'180.163.28.55-200'\n",
            " b'180.163.28.55-200' b'180.163.28.55-200']\n",
            "[step2]404 data filter: 0.29528236389160156 202448\n",
            "[step3]check result: 0.08500218391418457 ['216.244.66.200', '217.174.192.132', '66.249.79.234', '66.249.79.238', '66.249.79.236', '23.96.16.211', '47.101.154.149', '47.101.149.21', '38.54.24.118']\n"
          ]
        }
      ]
    },
    {
      "cell_type": "markdown",
      "source": [
        "###GPU initialize"
      ],
      "metadata": {
        "id": "C_UrI7hBQ9xH"
      }
    },
    {
      "cell_type": "code",
      "source": [
        "!pip install pycuda # install cuda\n",
        "import pycuda.driver as cuda\n",
        "import pycuda.autoinit\n",
        "from pycuda.compiler import SourceModule\n",
        "import numpy as np"
      ],
      "metadata": {
        "id": "EVRCQDNWG4P0"
      },
      "execution_count": null,
      "outputs": []
    },
    {
      "cell_type": "markdown",
      "source": [
        "###GPU"
      ],
      "metadata": {
        "id": "-Z7WmoqHRKXd"
      }
    },
    {
      "cell_type": "code",
      "source": [
        "a=np.loadtxt('pre.log', delimiter=' ', dtype=np.string_,converters={0:lambda v:v+b'\\0'})\n",
        "print(a.shape,a.size,a)"
      ],
      "metadata": {
        "id": "sVM0LpJrRImq",
        "outputId": "2a694a41-ae29-408b-ca4f-0d3a6d03bbac",
        "colab": {
          "base_uri": "https://localhost:8080/"
        }
      },
      "execution_count": 12,
      "outputs": [
        {
          "output_type": "stream",
          "name": "stdout",
          "text": [
            "(1141458,) 1141458 [b'::1-200' b'::1-200' b'::1-404' ... b'180.163.28.55-200'\n",
            " b'180.163.28.55-200' b'180.163.28.55-200']\n"
          ]
        }
      ]
    },
    {
      "cell_type": "code",
      "source": [
        "print(a[0])"
      ],
      "metadata": {
        "colab": {
          "base_uri": "https://localhost:8080/"
        },
        "id": "_WkHuaiPSn0I",
        "outputId": "66abcdfe-f14f-4fa0-c406-8d97ede9a1f6"
      },
      "execution_count": 6,
      "outputs": [
        {
          "output_type": "stream",
          "name": "stdout",
          "text": [
            "b'::1-200'\n"
          ]
        }
      ]
    },
    {
      "cell_type": "code",
      "source": [
        "na=np.delete(a,0)\n",
        "na.reshape((479,2383))"
      ],
      "metadata": {
        "colab": {
          "base_uri": "https://localhost:8080/"
        },
        "id": "z7XZDCJjSRS5",
        "outputId": "12f4957f-91c3-4de0-82e4-659f89f5ed32"
      },
      "execution_count": 13,
      "outputs": [
        {
          "output_type": "execute_result",
          "data": {
            "text/plain": [
              "array([[b'::1-200', b'::1-404', b'::1-200', ..., b'195.242.110.253-200',\n",
              "        b'110.249.202.11-200', b'110.249.201.69-200'],\n",
              "       [b'110.249.201.206-200', b'207.46.13.23-200',\n",
              "        b'110.249.201.14-200', ..., b'223.104.68.50-200',\n",
              "        b'223.104.68.50-200', b'223.104.68.50-200'],\n",
              "       [b'223.104.68.50-200', b'223.104.68.50-200', b'223.104.68.50-200',\n",
              "        ..., b'125.84.82.12-200', b'125.84.82.12-200',\n",
              "        b'125.84.82.12-200'],\n",
              "       ...,\n",
              "       [b'140.250.200.255-404', b'140.250.200.255-404',\n",
              "        b'52.167.144.32-200', ..., b'180.164.68.86-200',\n",
              "        b'180.164.68.86-200', b'180.164.68.86-200'],\n",
              "       [b'180.164.68.86-200', b'180.164.68.86-200', b'180.164.68.86-200',\n",
              "        ..., b'36.46.86.9-200', b'36.46.86.9-200', b'36.46.86.9-200'],\n",
              "       [b'36.46.86.9-200', b'36.46.86.9-200', b'36.46.86.9-200', ...,\n",
              "        b'180.163.28.55-200', b'180.163.28.55-200', b'180.163.28.55-200']],\n",
              "      dtype='|S44')"
            ]
          },
          "metadata": {},
          "execution_count": 13
        }
      ]
    },
    {
      "cell_type": "code",
      "source": [
        "s= np.array(['180.163.28.55-200\\0','edfg\\0','stz12345678b\\0','b1\\0','k2\\0','hellworld3\\0'], dtype=np.string_)\n",
        "\n",
        "s=s.reshape(2,3)\n",
        "print('shape:',s.shape,s.size)\n",
        "print(s,s.dtype)"
      ],
      "metadata": {
        "colab": {
          "base_uri": "https://localhost:8080/"
        },
        "id": "6ONgM-_6V0Z_",
        "outputId": "717c6b0f-4308-450e-de35-d01841585f17"
      },
      "execution_count": null,
      "outputs": [
        {
          "output_type": "stream",
          "name": "stdout",
          "text": [
            "shape: (2, 3) 6\n",
            "[[b'180.163.28.55-200' b'edfg' b'stz12345678b']\n",
            " [b'b1' b'k2' b'hellworld3']] |S18\n"
          ]
        }
      ]
    },
    {
      "cell_type": "code",
      "source": [
        "%%writefile gpu.py\n",
        "#!python \n",
        "import pycuda.driver as cuda\n",
        "import pycuda.autoinit\n",
        "from pycuda.compiler import SourceModule\n",
        "from pycuda import gpuarray\n",
        "import numpy as np\n",
        "\n",
        "mod = SourceModule(\"\"\"\n",
        "\n",
        " const int COL_NUM=2383;\n",
        " const int ROW_NUM=479;\n",
        " const int LOG_LEN=44;\n",
        "    typedef struct{\n",
        "      char ipAddr[LOG_LEN];\n",
        "      int cnt;\n",
        "    }ST_IPAddr;\n",
        "    __device__ void mystrcpy(char *out,char *in){\n",
        "      int i=0;\n",
        "      for(i=0;in[i]!=0;i++){\n",
        "        out[i] = in[i];\n",
        "      }\n",
        "      out[i]=0;\n",
        "    }\n",
        "    __device__  int find_404_ipaddr(char*in_gpu,char outAddr[],int rowStartIndex ,int strStartIndex){\n",
        "        int index=0;\n",
        "        for(int i = 0; i<LOG_LEN; i++){\n",
        "            index = strStartIndex+i+rowStartIndex;\n",
        "            if (in_gpu[index]=='-'){\n",
        "              if (in_gpu[index+1] == '4' && in_gpu[index+2] == '0' && in_gpu[index+3] == '4'){\n",
        "                 outAddr[i]=0;\n",
        "                 return 1;\n",
        "              }\n",
        "            }\n",
        "            outAddr[i]=in_gpu[index];\n",
        "        }\n",
        "        return 0;\n",
        "    }\n",
        "   \n",
        "    __device__ int strEqua(char *s1,char *s2){\n",
        "      for(int i=0;i<LOG_LEN;i++){\n",
        "        if (s1[i] != s2[i]){\n",
        "          return 0;\n",
        "        }\n",
        "      }\n",
        "      return 1;\n",
        "    }\n",
        "    __device__ int pushDedup(ST_IPAddr*dedup,char *ipAddr, int dedup_cnt){\n",
        "      for(int c=0;c<dedup_cnt;c++){\n",
        "        if(strEqua(dedup[c].ipAddr,ipAddr)){\n",
        "          dedup[c].cnt ++;\n",
        "        }else{\n",
        "          mystrcpy(dedup[dedup_cnt].ipAddr,ipAddr);\n",
        "          dedup[dedup_cnt].cnt = 0;\n",
        "        }\n",
        "      }\n",
        "    }\n",
        "    __global__ void check_log(char*in_gpu,char* out_gpu)\n",
        "    { \n",
        "      ST_IPAddr dedup[COL_NUM];\n",
        "      int dedup_cnt=0;\n",
        "\n",
        "      int idx = threadIdx.x + blockIdx.x * blockDim.x;\n",
        "\n",
        "      //printf(\"index: threadIdx.x=%d blockIdx.x=%d  blockDim.x=%d \\\\n\",threadIdx.x,blockIdx.x,blockDim.x);\n",
        "     // printf(\"thread id: [%d]  get str:%s  strlen=%d \\\\n\",idx,in_gpu+LOG_LEN+1, LOG_LEN);\n",
        "\n",
        "      // string len is 6\n",
        "      char sub[LOG_LEN+1];\n",
        "      int strStartIndex=0;//string start locaion\n",
        "      int rowOffset=COL_NUM*LOG_LEN;\n",
        "      if(idx > ROW_NUM){\n",
        "        printf(\"[ERROR]idx=%d, rowCnt=%d, we want one thread process all one rows'data .please tune\",idx,ROW_NUM);\n",
        "      }\n",
        "      \n",
        "      int rowStartIndex=rowOffset*idx;\n",
        "      out_gpu[rowStartIndex]=0;\n",
        "      //int all_find_iadd_in_row=0;\n",
        "      for(int c=0;c<COL_NUM;c++){\n",
        "        strStartIndex=c*LOG_LEN;\n",
        "        if (find_404_ipaddr(in_gpu,sub,rowStartIndex,strStartIndex)){\n",
        "          //printf(\"thread[%d] rowStartIndex=%d, substring:%s strStartIndex %d\\\\n\",idx,rowStartIndex,sub,strStartIndex);\n",
        "          \n",
        "          //copy 404 to out_gpu\n",
        "          //mystrcpy(out_gpu+rowStartIndex+dedup_cnt*LOG_LEN,sub);\n",
        "          //mystrcpy(dedup[c].ipAddr,sub);\n",
        "          pushDedup(dedup,sub,dedup_cnt);\n",
        "          //printf(\"rowStartIndex=%d,c=%d  add=\\%s\\\\n\",rowStartIndex,c,dedup[c].ipAddr);\n",
        "          dedup_cnt++;\n",
        "        }\n",
        "      }\n",
        "\n",
        "      __syncthreads();\n",
        "      for(int c=0;c<dedup_cnt;c++){\n",
        "        \n",
        "         mystrcpy(out_gpu+rowStartIndex+LOG_LEN*c,dedup[c].ipAddr);\n",
        "         //printf(\"thread[%d][%d] addr:%s = %d\\\\n\",rowStartIndex,c,dedup[c].ipAddr,dedup[c].cnt);\n",
        "      }\n",
        "      //printf(\"thread[%d] addrCnt:%d\\\\n\",idx,dedup_cnt);\n",
        "      __syncthreads();\n",
        "    }\n",
        "    \"\"\")\n",
        "\n",
        "check_log = mod.get_function(\"check_log\")\n",
        "\n",
        "a=np.loadtxt('pre.log', delimiter=' ', dtype=np.string_,converters={0:lambda v:v+b'\\0'})\n",
        "na=np.delete(a,0)\n",
        "NUM_ROW=479\n",
        "NUM_COL=2383\n",
        "na.reshape((479,2383))\n",
        "print('shape:',na.shape,na.size)\n",
        "print(na,na.data)\n",
        "\n",
        "na_gpu = gpuarray.to_gpu(na)\n",
        "out_gpu = gpuarray.empty_like(na_gpu)\n",
        "check_log(na_gpu,out_gpu,block=(NUM_ROW,1,1),grid=(1,1,1))\n",
        "\n",
        "import sys\n",
        "np.set_printoptions(threshold=sys.maxsize)\n",
        "print('out_gpu:',out_gpu.get())\n",
        "\n"
      ],
      "metadata": {
        "colab": {
          "base_uri": "https://localhost:8080/"
        },
        "id": "099wsKjFT1lf",
        "outputId": "338150f0-31b5-407e-af1d-7426bef4d619"
      },
      "execution_count": 85,
      "outputs": [
        {
          "output_type": "stream",
          "name": "stdout",
          "text": [
            "Overwriting gpu.py\n"
          ]
        }
      ]
    },
    {
      "cell_type": "code",
      "source": [
        "!python gpu.py"
      ],
      "metadata": {
        "colab": {
          "base_uri": "https://localhost:8080/"
        },
        "id": "LujY7PbuWnO0",
        "outputId": "035f3a37-988b-4157-ee91-248a23aee7ee"
      },
      "execution_count": 86,
      "outputs": [
        {
          "output_type": "stream",
          "name": "stdout",
          "text": [
            "shape: (1141457,) 1141457\n",
            "[b'::1-200' b'::1-404' b'::1-200' ... b'180.163.28.55-200'\n",
            " b'180.163.28.55-200' b'180.163.28.55-200'] <memory at 0x7f1766ce9700>\n",
            "out_gpu: Traceback (most recent call last):\n",
            "  File \"/content/gpu.py\", line 119, in <module>\n",
            "    print('out_gpu:',out_gpu.get())\n",
            "  File \"/usr/local/lib/python3.9/dist-packages/numpy/core/arrayprint.py\", line 1592, in _array_str_implementation\n",
            "    return array2string(a, max_line_width, precision, suppress_small, ' ', \"\")\n",
            "  File \"/usr/local/lib/python3.9/dist-packages/numpy/core/arrayprint.py\", line 736, in array2string\n",
            "    return _array2string(a, options, separator, prefix)\n",
            "  File \"/usr/local/lib/python3.9/dist-packages/numpy/core/arrayprint.py\", line 513, in wrapper\n",
            "    return f(self, *args, **kwargs)\n",
            "  File \"/usr/local/lib/python3.9/dist-packages/numpy/core/arrayprint.py\", line 546, in _array2string\n",
            "    lst = _formatArray(a, format_function, options['linewidth'],\n",
            "  File \"/usr/local/lib/python3.9/dist-packages/numpy/core/arrayprint.py\", line 889, in _formatArray\n",
            "    return recurser(index=(),\n",
            "  File \"/usr/local/lib/python3.9/dist-packages/numpy/core/arrayprint.py\", line 846, in recurser\n",
            "    s, line = _extendLine_pretty(\n",
            "  File \"/usr/local/lib/python3.9/dist-packages/numpy/core/arrayprint.py\", line 759, in _extendLine_pretty\n",
            "    return _extendLine(s, line, word, line_width, next_line_prefix, legacy)\n",
            "  File \"/usr/local/lib/python3.9/dist-packages/numpy/core/arrayprint.py\", line 747, in _extendLine\n",
            "    s += line.rstrip() + \"\\n\"\n",
            "KeyboardInterrupt\n",
            "^C\n"
          ]
        }
      ]
    },
    {
      "cell_type": "code",
      "source": [
        "!ls -l  /tmp/\n",
        "!nvcc --cubin -arch sm_75 /tmp/tmp6h7ouqd_/kernel.cu"
      ],
      "metadata": {
        "id": "JrrVbE8jzlUE"
      },
      "execution_count": null,
      "outputs": []
    }
  ]
}