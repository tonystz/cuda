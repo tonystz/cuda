{
  "nbformat": 4,
  "nbformat_minor": 0,
  "metadata": {
    "colab": {
      "provenance": [],
      "mount_file_id": "https://github.com/tonystz/cuda/blob/main/poc/gpu.ipynb",
      "authorship_tag": "ABX9TyPaSh7/kZIio7ku/nOkQ6Pe",
      "include_colab_link": true
    },
    "kernelspec": {
      "name": "python3",
      "display_name": "Python 3"
    },
    "language_info": {
      "name": "python"
    },
    "accelerator": "GPU",
    "gpuClass": "standard"
  },
  "cells": [
    {
      "cell_type": "markdown",
      "metadata": {
        "id": "view-in-github",
        "colab_type": "text"
      },
      "source": [
        "<a href=\"https://colab.research.google.com/github/tonystz/cuda/blob/main/poc/gpu.ipynb\" target=\"_parent\"><img src=\"https://colab.research.google.com/assets/colab-badge.svg\" alt=\"Open In Colab\"/></a>"
      ]
    },
    {
      "cell_type": "markdown",
      "source": [
        "###Get code"
      ],
      "metadata": {
        "id": "-lNRdW8WQhIB"
      }
    },
    {
      "cell_type": "code",
      "execution_count": null,
      "metadata": {
        "id": "lX8LU9gf-lup"
      },
      "outputs": [],
      "source": [
        "!git clone https://github.com/tonystz/cuda.git"
      ]
    },
    {
      "cell_type": "code",
      "source": [
        "!python cuda/poc/raw.py"
      ],
      "metadata": {
        "colab": {
          "base_uri": "https://localhost:8080/"
        },
        "id": "TC7YFr-9GKoU",
        "outputId": "3937e12d-b66a-45bf-ebc6-961caa37e734"
      },
      "execution_count": 2,
      "outputs": [
        {
          "output_type": "stream",
          "name": "stdout",
          "text": [
            "[step0]preprocess raw log: total=1153965 skip=12507 2.091172933578491\n"
          ]
        }
      ]
    },
    {
      "cell_type": "markdown",
      "source": [
        "\n",
        "###CPU"
      ],
      "metadata": {
        "id": "75fPDr4RQkn3"
      }
    },
    {
      "cell_type": "code",
      "source": [
        "!python cuda/poc/cpu.py"
      ],
      "metadata": {
        "colab": {
          "base_uri": "https://localhost:8080/"
        },
        "id": "hDh5YFCvC01F",
        "outputId": "fd45c1bd-97c9-4042-a17e-86c963904464"
      },
      "execution_count": 3,
      "outputs": [
        {
          "output_type": "stream",
          "name": "stdout",
          "text": [
            "[step1]reload data: 3.3212413787841797 (1141458,) |S44 1141458 [b'::1-200' b'::1-200' b'::1-404' ... b'180.163.28.55-200'\n",
            " b'180.163.28.55-200' b'180.163.28.55-200']\n",
            "[step2]404 data filter: 0.6432945728302002 202448\n",
            "[step3]check result: 0.17370939254760742 ['216.244.66.200', '217.174.192.132', '66.249.79.234', '66.249.79.238', '66.249.79.236', '23.96.16.211', '47.101.154.149', '47.101.149.21', '38.54.24.118']\n"
          ]
        }
      ]
    },
    {
      "cell_type": "markdown",
      "source": [
        "###GPU initialize"
      ],
      "metadata": {
        "id": "C_UrI7hBQ9xH"
      }
    },
    {
      "cell_type": "code",
      "source": [
        "!pip install pycuda # install cuda\n",
        "import pycuda.driver as cuda\n",
        "import pycuda.autoinit\n",
        "from pycuda.compiler import SourceModule\n",
        "import numpy as np"
      ],
      "metadata": {
        "id": "EVRCQDNWG4P0"
      },
      "execution_count": null,
      "outputs": []
    },
    {
      "cell_type": "markdown",
      "source": [
        "###GPU"
      ],
      "metadata": {
        "id": "-Z7WmoqHRKXd"
      }
    },
    {
      "cell_type": "code",
      "source": [
        "a=np.loadtxt('pre.log', delimiter=' ', dtype=np.string_,converters={0:lambda v:v+b'\\0'})\n",
        "print(a.shape,a.size,a)"
      ],
      "metadata": {
        "id": "sVM0LpJrRImq"
      },
      "execution_count": null,
      "outputs": []
    },
    {
      "cell_type": "code",
      "source": [
        "print(a[0])"
      ],
      "metadata": {
        "colab": {
          "base_uri": "https://localhost:8080/"
        },
        "id": "_WkHuaiPSn0I",
        "outputId": "73a0e7ab-d019-4a4d-e92e-1e6d299eabdc"
      },
      "execution_count": 21,
      "outputs": [
        {
          "output_type": "stream",
          "name": "stdout",
          "text": [
            "b'::1-200'\n"
          ]
        }
      ]
    },
    {
      "cell_type": "code",
      "source": [
        "na=np.delete(a,0)\n",
        "na.reshape((479,2383))"
      ],
      "metadata": {
        "colab": {
          "base_uri": "https://localhost:8080/"
        },
        "id": "z7XZDCJjSRS5",
        "outputId": "c4e8785b-47c2-4a02-a6ba-df4c3030ce51"
      },
      "execution_count": 12,
      "outputs": [
        {
          "output_type": "execute_result",
          "data": {
            "text/plain": [
              "array([[b'::1-200', b'::1-404', b'::1-200', ..., b'195.242.110.253-200',\n",
              "        b'110.249.202.11-200', b'110.249.201.69-200'],\n",
              "       [b'110.249.201.206-200', b'207.46.13.23-200',\n",
              "        b'110.249.201.14-200', ..., b'223.104.68.50-200',\n",
              "        b'223.104.68.50-200', b'223.104.68.50-200'],\n",
              "       [b'223.104.68.50-200', b'223.104.68.50-200', b'223.104.68.50-200',\n",
              "        ..., b'125.84.82.12-200', b'125.84.82.12-200',\n",
              "        b'125.84.82.12-200'],\n",
              "       ...,\n",
              "       [b'140.250.200.255-404', b'140.250.200.255-404',\n",
              "        b'52.167.144.32-200', ..., b'180.164.68.86-200',\n",
              "        b'180.164.68.86-200', b'180.164.68.86-200'],\n",
              "       [b'180.164.68.86-200', b'180.164.68.86-200', b'180.164.68.86-200',\n",
              "        ..., b'36.46.86.9-200', b'36.46.86.9-200', b'36.46.86.9-200'],\n",
              "       [b'36.46.86.9-200', b'36.46.86.9-200', b'36.46.86.9-200', ...,\n",
              "        b'180.163.28.55-200', b'180.163.28.55-200', b'180.163.28.55-200']],\n",
              "      dtype='|S44')"
            ]
          },
          "metadata": {},
          "execution_count": 12
        }
      ]
    },
    {
      "cell_type": "code",
      "source": [
        "s= np.array(['180.163.28.55-200\\0','edfg\\0','stz12345678b\\0','b1\\0','k2\\0','hellworld3\\0'], dtype=np.string_)\n",
        "\n",
        "s=s.reshape(2,3)\n",
        "print('shape:',s.shape,s.size)\n",
        "print(s,s.dtype)"
      ],
      "metadata": {
        "colab": {
          "base_uri": "https://localhost:8080/"
        },
        "id": "6ONgM-_6V0Z_",
        "outputId": "717c6b0f-4308-450e-de35-d01841585f17"
      },
      "execution_count": 15,
      "outputs": [
        {
          "output_type": "stream",
          "name": "stdout",
          "text": [
            "shape: (2, 3) 6\n",
            "[[b'180.163.28.55-200' b'edfg' b'stz12345678b']\n",
            " [b'b1' b'k2' b'hellworld3']] |S18\n"
          ]
        }
      ]
    },
    {
      "cell_type": "code",
      "source": [
        "%%writefile gpu.py\n",
        "#!python \n",
        "import pycuda.driver as cuda\n",
        "import pycuda.autoinit\n",
        "from pycuda.compiler import SourceModule\n",
        "from pycuda import gpuarray\n",
        "import numpy as np\n",
        "\n",
        "mod = SourceModule(\"\"\"\n",
        "    #include <arpa/inet.h>\n",
        "    const int LOG_LEN=44;\n",
        "    __device__ void mystrcpy(char *in,char *out){\n",
        "      while(*in != 0){\n",
        "        *out++ = *in++;\n",
        "      }\n",
        "      *out = '\\0';\n",
        "    }\n",
        "    __device__  int find_404_ipaddr(char*in_gpu,char outAddr[],int rowStartIndex ,int strStartIndex){\n",
        "        int index=0;\n",
        "        for(int i = 0; i<LOG_LEN; i++){\n",
        "            index = strStartIndex+i+rowStartIndex;\n",
        "            if (in_gpu[index]=='-'){\n",
        "              if (in_gpu[index+1] == '4' && in_gpu[index+2] == '0' && in_gpu[index+3] == '4'){\n",
        "                 outAddr[i]='\\0';\n",
        "                 return 1;\n",
        "              }\n",
        "            }\n",
        "            outAddr[i]=in_gpu[index];\n",
        "        }\n",
        "        return 0;\n",
        "    }\n",
        "\n",
        "    __global__ void check_log(char*in_gpu,char* out_gpu)\n",
        "    { \n",
        "      const int colLen=2383;\n",
        "      const int rowCnt=479;\n",
        "\n",
        "      int idx = threadIdx.x + blockIdx.x * blockDim.x;\n",
        "\n",
        "      //printf(\"index: threadIdx.x=%d blockIdx.x=%d  blockDim.x=%d \\\\n\",threadIdx.x,blockIdx.x,blockDim.x);\n",
        "     // printf(\"thread id: [%d]  get str:%s  strlen=%d \\\\n\",idx,in_gpu+LOG_LEN+1, LOG_LEN);\n",
        "\n",
        "      // string len is 6\n",
        "      char sub[LOG_LEN+1];\n",
        "      int strStartIndex=0;//string start locaion\n",
        "      int rowOffset=colLen*LOG_LEN;\n",
        "      if(idx > rowCnt){\n",
        "        printf(\"[ERROR]idx=%d, rowCnt=%d, we want one thread process all one rows'data .please tune\");\n",
        "      }\n",
        "      \n",
        "      //char *ipAddr=0;\n",
        "      int rowStartIndex=rowOffset*idx;\n",
        "      out_gpu[rowStartIndex]='\\0';\n",
        "      for(int c=0;c<colLen;c++){\n",
        "        strStartIndex=c*LOG_LEN;\n",
        "        if (find_404_ipaddr(in_gpu,sub,rowStartIndex,strStartIndex)){\n",
        "           //printf(\"thread[%d] rowStartIndex=%d, substring:%s strStartIndex %d\\\\n\",idx,rowStartIndex,sub,strStartIndex);\n",
        "\n",
        "           //copy 404 to out_gpu\n",
        "           mystrcpy(sub,out_gpu+rowStartIndex);\n",
        "        }\n",
        "       \n",
        "      }\n",
        "    }\n",
        "    \"\"\")\n",
        "\n",
        "check_log = mod.get_function(\"check_log\")\n",
        "\n",
        "a=np.loadtxt('pre.log', delimiter=' ', dtype=np.string_,converters={0:lambda v:v+b'\\0'})\n",
        "na=np.delete(a,0)\n",
        "na.reshape((479,2383))\n",
        "print('shape:',na.shape,na.size)\n",
        "print(na,na.data)\n",
        "\n",
        "NUM_ROW=479\n",
        "NUM_COL=2383\n",
        "\n",
        "na_gpu = gpuarray.to_gpu(na)\n",
        "out_gpu = gpuarray.empty_like(na_gpu)\n",
        "check_log(na_gpu,out_gpu,block=(NUM_ROW,1,1),grid=(1,1,1))\n",
        "print('modify:',out_gpu.get())"
      ],
      "metadata": {
        "colab": {
          "base_uri": "https://localhost:8080/"
        },
        "id": "099wsKjFT1lf",
        "outputId": "636f23b9-546c-4fd3-eb25-bcb5c782c224"
      },
      "execution_count": 93,
      "outputs": [
        {
          "output_type": "stream",
          "name": "stdout",
          "text": [
            "Overwriting gpu.py\n"
          ]
        }
      ]
    },
    {
      "cell_type": "code",
      "source": [
        "!python gpu.py"
      ],
      "metadata": {
        "colab": {
          "base_uri": "https://localhost:8080/"
        },
        "id": "LujY7PbuWnO0",
        "outputId": "f6cc0291-b0e7-4374-89e9-9b2cb7597740"
      },
      "execution_count": 94,
      "outputs": [
        {
          "output_type": "stream",
          "name": "stdout",
          "text": [
            "/content/gpu.py:8: UserWarning: The CUDA compiler succeeded, but said the following:\n",
            "kernel.cu:9:14: warning: null character(s) preserved in literal\n",
            "    9 |       *out = ' ';\n",
            "      |              ^\n",
            "kernel.cu:17:29: warning: null character(s) preserved in literal\n",
            "   17 |                  outAddr[i]=' ';\n",
            "      |                             ^\n",
            "kernel.cu:46:30: warning: null character(s) preserved in literal\n",
            "   46 |       out_gpu[rowStartIndex]=' ';\n",
            "      |                              ^\n",
            "kernel.cu(9): warning #1193-D: null (zero) character in string or character constant\n",
            "\n",
            "kernel.cu(17): warning #1193-D: null (zero) character in string or character constant\n",
            "\n",
            "kernel.cu(41): warning #224-D: the format string requires additional arguments\n",
            "\n",
            "kernel.cu(46): warning #1193-D: null (zero) character in string or character constant\n",
            "\n",
            "\n",
            "  mod = SourceModule(\"\"\"\n",
            "shape: (1141457,) 1141457\n",
            "[b'::1-200' b'::1-404' b'::1-200' ... b'180.163.28.55-200'\n",
            " b'180.163.28.55-200' b'180.163.28.55-200'] <memory at 0x7f125d92a7c0>\n",
            "modify: [b'110.249.202.4' b'' b'' ... b'' b'' b'']\n"
          ]
        }
      ]
    },
    {
      "cell_type": "code",
      "source": [
        "!grep '110.249.202.4' pre.log"
      ],
      "metadata": {
        "id": "JrrVbE8jzlUE",
        "outputId": "7364a680-3498-42db-c3e8-b6a131186142",
        "colab": {
          "base_uri": "https://localhost:8080/"
        }
      },
      "execution_count": 95,
      "outputs": [
        {
          "output_type": "stream",
          "name": "stdout",
          "text": [
            "110.249.202.4-404\n",
            "110.249.202.46-404\n",
            "110.249.202.41-404\n",
            "110.249.202.48-200\n",
            "110.249.202.47-200\n",
            "110.249.202.46-200\n",
            "110.249.202.43-200\n",
            "110.249.202.45-200\n",
            "110.249.202.49-200\n",
            "110.249.202.48-200\n",
            "110.249.202.48-200\n",
            "110.249.202.46-200\n",
            "110.249.202.44-200\n",
            "110.249.202.47-200\n",
            "110.249.202.47-200\n",
            "110.249.202.48-200\n",
            "110.249.202.42-200\n",
            "110.249.202.49-200\n",
            "110.249.202.47-200\n",
            "110.249.202.42-200\n",
            "110.249.202.48-200\n",
            "110.249.202.43-404\n",
            "110.249.202.47-200\n",
            "110.249.202.48-200\n",
            "110.249.202.41-404\n",
            "110.249.202.4-200\n",
            "110.249.202.4-200\n",
            "110.249.202.40-404\n",
            "110.249.202.42-404\n",
            "110.249.202.40-200\n",
            "110.249.202.4-404\n",
            "110.249.202.49-404\n",
            "110.249.202.41-200\n",
            "110.249.202.41-200\n",
            "110.249.202.46-200\n",
            "110.249.202.40-404\n",
            "110.249.202.49-404\n",
            "110.249.202.48-200\n",
            "110.249.202.48-200\n",
            "110.249.202.48-404\n",
            "110.249.202.40-200\n",
            "110.249.202.41-200\n",
            "110.249.202.42-404\n",
            "110.249.202.41-200\n",
            "110.249.202.44-200\n",
            "110.249.202.45-200\n",
            "110.249.202.49-200\n",
            "110.249.202.46-200\n",
            "110.249.202.46-200\n",
            "110.249.202.48-200\n",
            "110.249.202.43-200\n",
            "110.249.202.43-200\n",
            "110.249.202.48-200\n",
            "110.249.202.45-200\n",
            "110.249.202.48-200\n",
            "110.249.202.42-404\n",
            "110.249.202.47-200\n",
            "110.249.202.45-200\n",
            "110.249.202.41-200\n",
            "110.249.202.4-200\n",
            "110.249.202.48-200\n",
            "110.249.202.46-200\n",
            "110.249.202.40-200\n",
            "110.249.202.4-200\n",
            "110.249.202.45-404\n",
            "110.249.202.48-404\n",
            "110.249.202.4-200\n",
            "110.249.202.48-404\n",
            "110.249.202.4-404\n",
            "110.249.202.4-404\n",
            "110.249.202.47-404\n",
            "110.249.202.41-200\n",
            "110.249.202.41-200\n",
            "110.249.202.46-404\n",
            "110.249.202.41-200\n",
            "110.249.202.4-200\n",
            "110.249.202.46-404\n",
            "110.249.202.42-200\n",
            "110.249.202.41-200\n",
            "110.249.202.41-200\n",
            "110.249.202.40-200\n",
            "110.249.202.4-200\n",
            "110.249.202.49-200\n",
            "110.249.202.44-200\n",
            "110.249.202.49-200\n",
            "110.249.202.46-200\n",
            "110.249.202.46-404\n",
            "110.249.202.46-200\n",
            "110.249.202.40-200\n",
            "110.249.202.40-200\n",
            "110.249.202.40-200\n",
            "110.249.202.49-404\n",
            "110.249.202.47-200\n",
            "110.249.202.49-200\n",
            "110.249.202.43-404\n",
            "110.249.202.43-404\n",
            "110.249.202.42-200\n",
            "110.249.202.4-404\n",
            "110.249.202.42-404\n",
            "110.249.202.47-200\n",
            "110.249.202.49-200\n",
            "110.249.202.49-200\n",
            "110.249.202.45-200\n",
            "110.249.202.48-200\n",
            "110.249.202.46-404\n",
            "110.249.202.44-404\n",
            "110.249.202.41-200\n",
            "110.249.202.42-404\n",
            "110.249.202.48-200\n",
            "110.249.202.46-200\n",
            "110.249.202.46-200\n",
            "110.249.202.46-200\n",
            "110.249.202.46-200\n",
            "110.249.202.45-200\n",
            "110.249.202.43-200\n",
            "110.249.202.47-404\n",
            "110.249.202.42-200\n",
            "110.249.202.48-200\n",
            "110.249.202.44-404\n",
            "110.249.202.48-200\n",
            "110.249.202.42-200\n",
            "110.249.202.44-200\n",
            "110.249.202.49-200\n",
            "110.249.202.47-404\n",
            "110.249.202.43-404\n",
            "110.249.202.40-404\n",
            "110.249.202.43-200\n",
            "110.249.202.42-404\n",
            "110.249.202.42-200\n"
          ]
        }
      ]
    }
  ]
}