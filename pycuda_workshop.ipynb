{
  "cells": [
    {
      "cell_type": "markdown",
      "metadata": {
        "id": "view-in-github",
        "colab_type": "text"
      },
      "source": [
        "<a href=\"https://colab.research.google.com/github/tonystz/gitpod/blob/main/pycuda_workshop.ipynb\" target=\"_parent\"><img src=\"https://colab.research.google.com/assets/colab-badge.svg\" alt=\"Open In Colab\"/></a>"
      ]
    },
    {
      "cell_type": "markdown",
      "metadata": {
        "id": "p2JZt1GL5D6W"
      },
      "source": [
        "# Introduction to CUDA and PyCUDA"
      ]
    },
    {
      "cell_type": "code",
      "execution_count": null,
      "metadata": {
        "id": "FA_YN7HlGRP5"
      },
      "outputs": [],
      "source": [
        "!pip install pycuda # install cuda\n",
        "import pycuda.driver as cuda\n",
        "import pycuda.autoinit\n",
        "from pycuda.compiler import SourceModule"
      ]
    },
    {
      "cell_type": "code",
      "execution_count": null,
      "metadata": {
        "id": "-g92eSBn5FlC"
      },
      "outputs": [],
      "source": [
        "import numpy as np\n",
        "import pandas as pd\n",
        "\n",
        "\n",
        "df=pd.read_csv('drive/MyDrive/a.csv').dropna()\n",
        "print(df)\n",
        "a= df.to_numpy()\n",
        "print(a)\n",
        "print(a.shape,a.size,a.dtype)"
      ]
    },
    {
      "cell_type": "markdown",
      "source": [
        "# python to check risk IP, check threshhold: >5 times within 6 minute"
      ],
      "metadata": {
        "id": "muSDcrJ-TjLH"
      }
    },
    {
      "cell_type": "code",
      "source": [
        "from datetime import datetime\n",
        "import csv\n",
        "import socket, struct\n",
        "import numpy as np\n",
        "\n",
        "ip2long=lambda ip:struct.unpack(\"!L\", socket.inet_aton(ip))[0]\n",
        "long2ip=lambda long:socket.inet_ntoa(struct.pack('!L', long))\n",
        "date2int=lambda current_date: current_date.year*10000000000 + current_date.month * 100000000 +  current_date.day * 1000000 + current_date.hour*10000 + current_date.minute*100 + current_date.second\n",
        "\n",
        "hack_type={\n",
        "    'Ftp访问日志':0,\n",
        "    'SQL 注入':1,\n",
        "    'Web Shell攻击':2,\n",
        "    '暴力破解':3,\n",
        "    '端口扫描':4,\n",
        "    '缓冲区溢出攻击':5,\n",
        "    '弱口令漏洞':6\n",
        "}\n",
        "\n",
        "numdata=[]\n",
        "with open('drive/MyDrive/a.csv', newline='') as csvfile:\n",
        "    data = csv.reader(csvfile)\n",
        "    next(data) #skip header\n",
        "    for row in data:\n",
        "        if len(row[0]) == 0: continue\n",
        "        numdata.append([date2int(datetime.strptime(row[1]+' '+row[2],'%Y/%m/%d %H:%M:%S')),hack_type.get(row[3],-1),ip2long(row[4])])\n",
        "        print(row)\n",
        "print(numdata)\n",
        "a=np.array(numdata,dtype=np.uint64)\n",
        "\n",
        "# r=np.zeros(a.shape,dtype=a.dtype)\n",
        "\n",
        "rdict={}\n",
        "for i in a:\n",
        "    if i[2] in rdict:\n",
        "        rdict[i[2]][0] +=1\n",
        "        rdict[i[2]][1].append(i[0])\n",
        "    else:\n",
        "        rdict[i[2]]=[1,[i[0]]]\n",
        "\n",
        "# print(rdict)\n",
        "\n",
        "# check threshhold: >5 within 6 minute\n",
        "th_count=5\n",
        "th_min=6*100\n",
        "\n",
        "for k,v in rdict.items():\n",
        "    if v[0] > th_count:\n",
        "        avg_time=int(sum(v[1])/len(v[1]))\n",
        "        if [i for i in v[1] if i < avg_time + th_min]:\n",
        "            print(long2ip(k))"
      ],
      "metadata": {
        "id": "Np2C3LBBevBZ",
        "outputId": "12bc05a1-1e54-4136-e680-5ca90c03abd0",
        "colab": {
          "base_uri": "https://localhost:8080/"
        }
      },
      "execution_count": 5,
      "outputs": [
        {
          "output_type": "stream",
          "name": "stdout",
          "text": [
            "['1', '2023/3/3', '9:31:01', 'SQL 注入', '192.168.10.101', '32546', '172.10.166.204', '3306', 'Huang.XD', 'Failed']\n",
            "['2', '2023/3/3', '9:31:01', '端口扫描', '192.168.10.102', '32547', '172.10.166.205', '443', 'Huang.XD', 'Failed']\n",
            "['3', '2023/3/3', '9:31:01', '暴力破解', '192.168.10.103', '32548', '172.10.166.206', '22', 'Huang.XD', 'Failed']\n",
            "['4', '2023/3/3', '9:31:01', 'Web Shell攻击', '192.168.10.104', '32549', '172.10.166.207', '8080', 'Liu.YD', 'Failed']\n",
            "['5', '2023/3/3', '9:31:01', 'Ftp访问日志', '192.168.10.105', '32550', '172.10.166.208', '21', 'Fang.ZL', 'Failed']\n",
            "['6', '2023/3/3', '9:31:01', '弱口令漏洞', '192.168.10.106', '32551', '172.10.166.209', '143', 'Huang.XD', 'Failed']\n",
            "['7', '2023/3/3', '9:31:01', 'SQL 注入', '192.168.10.107', '32552', '172.10.166.210', '3306', 'Liu.YD', 'Failed']\n",
            "['8', '2023/3/3', '9:31:01', '端口扫描', '192.168.10.108', '32553', '172.10.166.211', '443', 'Fang.ZL', 'Failed']\n",
            "['9', '2023/3/3', '9:31:01', '暴力破解', '192.168.10.101', '32554', '172.10.166.212', '22', 'Chen.JT', 'Failed']\n",
            "['10', '2023/3/3', '9:31:01', 'Web Shell攻击', '192.168.10.102', '32555', '172.10.166.213', '8080', 'Liu.YD', 'Failed']\n",
            "['11', '2023/3/3', '9:31:01', 'Ftp访问日志', '192.168.10.103', '32556', '172.10.166.214', '21', 'Fang.ZL', 'Failed']\n",
            "['12', '2023/3/3', '9:31:01', '弱口令漏洞', '192.168.10.104', '32557', '172.10.166.215', '143', 'Chen.JT', 'Failed']\n",
            "['13', '2023/3/3', '9:32:02', 'SQL 注入', '192.168.10.105', '32546', '172.10.166.216', '3306', 'Huang.XD', 'Failed']\n",
            "['14', '2023/3/3', '9:32:02', '端口扫描', '192.168.10.106', '32547', '172.10.166.207', '443', 'Liu.YD', 'Success']\n",
            "['15', '2023/3/3', '9:32:02', '暴力破解', '192.168.10.107', '32548', '172.10.166.208', '22', 'Fang.ZL', 'Success']\n",
            "['16', '2023/3/3', '9:32:02', 'Web Shell攻击', '192.168.10.105', '32549', '172.10.166.209', '8080', 'Huang.XD', 'Success']\n",
            "['17', '2023/3/3', '9:32:02', 'Ftp访问日志', '192.168.10.106', '32550', '172.10.166.210', '21', 'Liu.YD', 'Success']\n",
            "['18', '2023/3/3', '9:32:02', '弱口令漏洞', '192.168.10.107', '32551', '172.10.166.211', '143', 'Fang.ZL', 'Failed']\n",
            "['19', '2023/3/3', '9:32:02', 'SQL 注入', '192.168.10.108', '32552', '172.10.166.212', '3306', 'Chen.JT', 'Failed']\n",
            "['20', '2023/3/3', '9:32:02', '端口扫描', '192.168.10.101', '32553', '172.10.166.213', '443', 'Liu.YD', 'Failed']\n",
            "['21', '2023/3/3', '9:32:02', '暴力破解', '192.168.10.102', '32554', '172.10.166.211', '22', 'Fang.ZL', 'Failed']\n",
            "['22', '2023/3/3', '9:33:03', 'Web Shell攻击', '192.168.10.105', '32555', '172.10.166.212', '8080', 'Chen.JT', 'Failed']\n",
            "['23', '2023/3/3', '9:33:03', 'Ftp访问日志', '192.168.10.106', '32556', '172.10.166.213', '21', 'Chen.JT', 'Failed']\n",
            "['24', '2023/3/3', '9:33:03', '弱口令漏洞', '192.168.10.107', '32557', '172.10.166.214', '143', 'Liu.YD', 'Failed']\n",
            "['25', '2023/3/3', '9:33:03', 'SQL 注入', '192.168.10.105', '32546', '172.10.166.215', '3306', 'Fang.ZL', 'Failed']\n",
            "['26', '2023/3/3', '9:33:03', '端口扫描', '192.168.10.106', '32547', '172.10.166.216', '443', 'Chen.JT', 'Failed']\n",
            "['27', '2023/3/3', '9:33:03', '暴力破解', '192.168.10.107', '32548', '172.10.166.207', '22', 'Huang.XD', 'Success']\n",
            "['28', '2023/3/3', '9:33:03', 'Web Shell攻击', '192.168.10.108', '32549', '172.10.166.208', '8080', 'Liu.YD', 'Success']\n",
            "['29', '2023/3/3', '9:33:03', 'Ftp访问日志', '192.168.10.101', '32550', '172.10.166.209', '21', 'Fang.ZL', 'Failed']\n",
            "['30', '2023/3/3', '9:33:03', '弱口令漏洞', '192.168.10.105', '32551', '172.10.166.210', '143', 'Huang.XD', 'Failed']\n",
            "['31', '2023/3/3', '9:34:04', 'SQL 注入', '192.168.10.106', '32552', '172.10.166.204', '3306', 'Liu.YD', 'Failed']\n",
            "['32', '2023/3/3', '9:34:04', '端口扫描', '192.168.10.107', '32553', '172.10.166.205', '443', 'Liu.YD', 'Failed']\n",
            "['33', '2023/3/3', '9:34:04', '暴力破解', '192.168.10.108', '32554', '172.10.166.206', '22', 'Fang.ZL', 'Failed']\n",
            "['34', '2023/3/3', '9:34:04', 'Web Shell攻击', '192.168.10.101', '32555', '172.10.166.207', '8080', 'Chen.JT', 'Success']\n",
            "['35', '2023/3/3', '9:34:04', 'Ftp访问日志', '192.168.10.107', '32556', '172.10.166.208', '21', 'Chen.JT', 'Failed']\n",
            "['36', '2023/3/3', '9:34:04', '弱口令漏洞', '192.168.10.108', '32557', '172.10.166.209', '143', 'Liu.YD', 'Failed']\n",
            "['37', '2023/3/3', '9:34:04', 'SQL 注入', '192.168.10.101', '32554', '172.10.166.210', '3306', 'Fang.ZL', 'Failed']\n",
            "['38', '2023/3/3', '9:34:04', '端口扫描', '192.168.10.105', '32555', '172.10.166.211', '443', 'Chen.JT', 'Success']\n",
            "['39', '2023/3/3', '9:34:04', '暴力破解', '192.168.10.106', '32556', '172.10.166.212', '22', 'Fang.ZL', 'Success']\n",
            "['40', '2023/3/3', '9:35:05', 'Web Shell攻击', '192.168.10.107', '32557', '172.10.166.215', '8080', 'Huang.XD', 'Failed']\n",
            "['41', '2023/3/3', '9:35:05', 'Ftp访问日志', '192.168.10.108', '32546', '172.10.166.216', '21', 'Liu.YD', 'Failed']\n",
            "['42', '2023/3/3', '9:35:05', '弱口令漏洞', '192.168.10.107', '32547', '172.10.166.207', '143', 'Liu.YD', 'Failed']\n",
            "['43', '2023/3/3', '9:35:05', 'SQL 注入', '192.168.10.108', '32548', '172.10.166.208', '3306', 'Fang.ZL', 'Failed']\n",
            "['44', '2023/3/3', '9:35:05', '端口扫描', '192.168.10.101', '32549', '172.10.166.209', '443', 'Chen.JT', 'Success']\n",
            "['45', '2023/3/3', '9:35:05', '暴力破解', '192.168.10.105', '32552', '172.10.166.210', '22', 'Chen.JT', 'Failed']\n",
            "['46', '2023/3/3', '9:35:05', 'Web Shell攻击', '192.168.10.106', '32553', '172.10.166.204', '8080', 'Liu.YD', 'Failed']\n",
            "['47', '2023/3/3', '9:35:05', 'Ftp访问日志', '192.168.10.107', '32554', '172.10.166.205', '21', 'Fang.ZL', 'Failed']\n",
            "['48', '2023/3/3', '9:35:05', '弱口令漏洞', '192.168.10.108', '32555', '172.10.166.206', '143', '', 'Failed']\n",
            "['49', '2023/3/3', '9:35:05', 'SQL 注入', '192.168.10.101', '32556', '172.10.166.207', '3306', '', 'Failed']\n",
            "['50', '2023/3/3', '9:35:05', '端口扫描', '192.168.10.105', '32557', '172.10.166.208', '443', 'Fang.ZL', 'Failed']\n",
            "['51', '2023/3/3', '9:36:06', '暴力破解', '192.168.10.106', '32554', '172.10.166.209', '22', 'Huang.XD', 'Failed']\n",
            "['52', '2023/3/3', '9:36:06', 'Web Shell攻击', '192.168.10.107', '32555', '172.10.166.208', '8080', 'Liu.YD', 'Failed']\n",
            "['53', '2023/3/3', '9:36:06', 'Ftp访问日志', '192.168.10.108', '32556', '172.10.166.209', '21', 'Liu.YD', 'Failed']\n",
            "['54', '2023/3/3', '9:36:06', '弱口令漏洞', '192.168.10.107', '32557', '172.10.166.210', '143', 'Fang.ZL', 'Failed']\n",
            "['55', '2023/3/3', '9:37:07', 'SQL 注入', '192.168.10.108', '32546', '172.10.166.204', '3306', 'Chen.JT', 'Failed']\n",
            "['56', '2023/3/3', '9:37:07', '端口扫描', '192.168.10.101', '32547', '172.10.166.205', '443', 'Chen.JT', 'Success']\n",
            "['57', '2023/3/3', '9:37:07', '暴力破解', '192.168.10.105', '32557', '172.10.166.206', '22', 'Liu.YD', 'Failed']\n",
            "['58', '2023/3/3', '9:37:07', 'Web Shell攻击', '192.168.10.106', '32554', '172.10.166.207', '8080', 'Fang.ZL', 'Failed']\n",
            "['59', '2023/3/3', '9:37:07', 'Ftp访问日志', '192.168.10.107', '32555', '172.10.166.208', '21', 'Fang.ZL', 'Failed']\n",
            "['60', '2023/3/3', '9:37:07', '弱口令漏洞', '192.168.10.108', '32556', '172.10.166.209', '143', 'Huang.XD', 'Failed']\n",
            "['61', '2023/3/3', '9:38:08', '缓冲区溢出攻击', '192.168.10.107', '32557', '172.10.166.210', '53', 'Liu.YD', 'Failed']\n",
            "['62', '2023/3/3', '9:38:08', '缓冲区溢出攻击', '192.168.10.108', '32546', '172.10.166.204', '80', 'Liu.YD', 'Success']\n",
            "['63', '2023/3/3', '9:38:08', '缓冲区溢出攻击', '192.168.10.101', '32547', '172.10.166.205', '25', 'Fang.ZL', 'Failed']\n",
            "['64', '2023/3/3', '9:38:08', '缓冲区溢出攻击', '192.168.10.105', '32548', '172.10.166.206', '25', 'Chen.JT', 'Failed']\n",
            "[[20230303093101, 1, 3232238181], [20230303093101, 4, 3232238182], [20230303093101, 3, 3232238183], [20230303093101, 2, 3232238184], [20230303093101, 0, 3232238185], [20230303093101, 6, 3232238186], [20230303093101, 1, 3232238187], [20230303093101, 4, 3232238188], [20230303093101, 3, 3232238181], [20230303093101, 2, 3232238182], [20230303093101, 0, 3232238183], [20230303093101, 6, 3232238184], [20230303093202, 1, 3232238185], [20230303093202, 4, 3232238186], [20230303093202, 3, 3232238187], [20230303093202, 2, 3232238185], [20230303093202, 0, 3232238186], [20230303093202, 6, 3232238187], [20230303093202, 1, 3232238188], [20230303093202, 4, 3232238181], [20230303093202, 3, 3232238182], [20230303093303, 2, 3232238185], [20230303093303, 0, 3232238186], [20230303093303, 6, 3232238187], [20230303093303, 1, 3232238185], [20230303093303, 4, 3232238186], [20230303093303, 3, 3232238187], [20230303093303, 2, 3232238188], [20230303093303, 0, 3232238181], [20230303093303, 6, 3232238185], [20230303093404, 1, 3232238186], [20230303093404, 4, 3232238187], [20230303093404, 3, 3232238188], [20230303093404, 2, 3232238181], [20230303093404, 0, 3232238187], [20230303093404, 6, 3232238188], [20230303093404, 1, 3232238181], [20230303093404, 4, 3232238185], [20230303093404, 3, 3232238186], [20230303093505, 2, 3232238187], [20230303093505, 0, 3232238188], [20230303093505, 6, 3232238187], [20230303093505, 1, 3232238188], [20230303093505, 4, 3232238181], [20230303093505, 3, 3232238185], [20230303093505, 2, 3232238186], [20230303093505, 0, 3232238187], [20230303093505, 6, 3232238188], [20230303093505, 1, 3232238181], [20230303093505, 4, 3232238185], [20230303093606, 3, 3232238186], [20230303093606, 2, 3232238187], [20230303093606, 0, 3232238188], [20230303093606, 6, 3232238187], [20230303093707, 1, 3232238188], [20230303093707, 4, 3232238181], [20230303093707, 3, 3232238185], [20230303093707, 2, 3232238186], [20230303093707, 0, 3232238187], [20230303093707, 6, 3232238188], [20230303093808, 5, 3232238187], [20230303093808, 5, 3232238188], [20230303093808, 5, 3232238181], [20230303093808, 5, 3232238185]]\n",
            "192.168.10.101\n",
            "192.168.10.105\n",
            "192.168.10.106\n",
            "192.168.10.107\n",
            "192.168.10.108\n"
          ]
        }
      ]
    },
    {
      "cell_type": "code",
      "source": [],
      "metadata": {
        "id": "fUQJ0N0RTyTU"
      },
      "execution_count": null,
      "outputs": []
    },
    {
      "cell_type": "code",
      "execution_count": null,
      "metadata": {
        "id": "bSAkS6e2Jk38"
      },
      "outputs": [],
      "source": [
        "mod = SourceModule(\"\"\"\n",
        "  __global__ void doublify(float *a)\n",
        "  {\n",
        "    int idx = threadIdx.x + threadIdx.y*4;\n",
        "    a[idx] *= 2;\n",
        "  }\n",
        "  \"\"\")"
      ]
    },
    {
      "cell_type": "code",
      "execution_count": null,
      "metadata": {
        "id": "fBQ0blkNJnIg"
      },
      "outputs": [],
      "source": [
        "func = mod.get_function(\"doublify\")\n",
        "func(a_gpu, block=(4,4,1))"
      ]
    },
    {
      "cell_type": "code",
      "source": [
        "from google.colab import drive\n",
        "drive.mount('/content/drive')"
      ],
      "metadata": {
        "id": "bdGxS_NpS1Fo",
        "outputId": "42d863c2-2a4e-4425-dd82-05f2b6ee5741",
        "colab": {
          "base_uri": "https://localhost:8080/"
        }
      },
      "execution_count": 1,
      "outputs": [
        {
          "output_type": "stream",
          "name": "stdout",
          "text": [
            "Mounted at /content/drive\n"
          ]
        }
      ]
    },
    {
      "cell_type": "code",
      "execution_count": null,
      "metadata": {
        "id": "_ef82NDPJqWV"
      },
      "outputs": [],
      "source": [
        "a_doubled = numpy.empty_like(a)\n",
        "cuda.memcpy_dtoh(a_doubled, a_gpu)\n",
        "print(a_doubled)\n",
        "print(a)"
      ]
    },
    {
      "cell_type": "code",
      "execution_count": null,
      "metadata": {
        "id": "kXx_p97mJs4Z"
      },
      "outputs": [],
      "source": [
        "b = numpy.random.randn(4,4)\n",
        "b = b.astype(numpy.float32)\n",
        "c = numpy.random.randn(4,4)\n",
        "c = c.astype(numpy.float32)"
      ]
    },
    {
      "cell_type": "code",
      "execution_count": null,
      "metadata": {
        "id": "cQYD348qKgva"
      },
      "outputs": [],
      "source": [
        "mod2 = SourceModule(\"\"\"\n",
        "  __global__ void add2(float *a, float *b)\n",
        "  {\n",
        "    int idx = threadIdx.x + threadIdx.y*4;\n",
        "    a[idx] += b[idx];\n",
        "  }\n",
        "  \"\"\")"
      ]
    },
    {
      "cell_type": "code",
      "execution_count": null,
      "metadata": {
        "id": "Vs_5Hb-6Kr-C"
      },
      "outputs": [],
      "source": [
        "b_gpu = cuda.mem_alloc(b.nbytes)\n",
        "c_gpu = cuda.mem_alloc(c.nbytes)\n",
        "\n",
        "cuda.memcpy_htod(b_gpu, b)\n",
        "cuda.memcpy_htod(c_gpu, c)\n"
      ]
    },
    {
      "cell_type": "code",
      "execution_count": null,
      "metadata": {
        "id": "WwA4tpOtLE5_"
      },
      "outputs": [],
      "source": [
        "func = mod2.get_function(\"add2\")\n",
        "func(b_gpu,c_gpu, block=(4,4,1))"
      ]
    },
    {
      "cell_type": "code",
      "execution_count": null,
      "metadata": {
        "id": "0zN8iBYDM_00"
      },
      "outputs": [],
      "source": [
        "added = numpy.empty_like(b)\n",
        "cuda.memcpy_dtoh(added, b_gpu)\n",
        "print(added)\n",
        "print(b)\n",
        "print(c)"
      ]
    },
    {
      "cell_type": "markdown",
      "metadata": {
        "id": "vJBVoR8ANgx5"
      },
      "source": [
        "# Exercises\n",
        "\n",
        "1. Write a cuda kernel to find the elementwise square of a matrix\n",
        "2. Write a cuda kernel to find a matrix, which when added to the given matrix results in every element being equal to zero\n",
        "3. Write a cuda kernel to multiply two matrices:\n",
        "    1. Assume square matrices, with dimensions < 1024\n",
        "    2. Assume square matrices, with dimensions > 1024\n",
        "    3. Assume non-square matrices, with dimensions > 1024"
      ]
    },
    {
      "cell_type": "code",
      "execution_count": null,
      "metadata": {
        "id": "ZBYr6BUWNuLe"
      },
      "outputs": [],
      "source": [
        "1. "
      ]
    }
  ],
  "metadata": {
    "accelerator": "GPU",
    "colab": {
      "name": "pycuda workshop",
      "provenance": [],
      "include_colab_link": true
    },
    "kernelspec": {
      "display_name": "Python 3",
      "language": "python",
      "name": "python3"
    },
    "language_info": {
      "codemirror_mode": {
        "name": "ipython",
        "version": 3
      },
      "file_extension": ".py",
      "mimetype": "text/x-python",
      "name": "python",
      "nbconvert_exporter": "python",
      "pygments_lexer": "ipython3",
      "version": "3.8.3"
    }
  },
  "nbformat": 4,
  "nbformat_minor": 0
}